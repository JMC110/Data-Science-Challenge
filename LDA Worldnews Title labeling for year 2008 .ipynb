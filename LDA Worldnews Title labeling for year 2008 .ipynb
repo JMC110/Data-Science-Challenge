{
 "cells": [
  {
   "cell_type": "code",
   "execution_count": 1,
   "metadata": {},
   "outputs": [],
   "source": [
    "import numpy as np\n",
    "import pandas as pd\n",
    "import sys\n",
    "import seaborn as sns\n",
    "from sklearn.neighbors import NearestNeighbors\n",
    "from sklearn.cluster import MiniBatchKMeans\n",
    "from sklearn.feature_extraction.text import TfidfVectorizer\n",
    "from sklearn.decomposition import PCA\n",
    "import matplotlib.pyplot as plt"
   ]
  },
  {
   "cell_type": "code",
   "execution_count": 2,
   "metadata": {},
   "outputs": [
    {
     "name": "stderr",
     "output_type": "stream",
     "text": [
      "[nltk_data] Downloading package stopwords to\n",
      "[nltk_data]     /Users/jumananadir/nltk_data...\n",
      "[nltk_data]   Package stopwords is already up-to-date!\n"
     ]
    },
    {
     "data": {
      "text/plain": [
       "True"
      ]
     },
     "execution_count": 2,
     "metadata": {},
     "output_type": "execute_result"
    }
   ],
   "source": [
    "import nltk\n",
    "nltk.download('stopwords')"
   ]
  },
  {
   "cell_type": "markdown",
   "metadata": {},
   "source": [
    "# Genism and Spacy Imports"
   ]
  },
  {
   "cell_type": "code",
   "execution_count": 34,
   "metadata": {},
   "outputs": [],
   "source": [
    "from pprint import pprint\n",
    "import gensim\n",
    "import gensim.corpora as corpora\n",
    "from gensim.utils import simple_preprocess\n",
    "from gensim.models import CoherenceModel\n",
    "import spacy\n",
    "import pyLDAvis\n",
    "import pyLDAvis.gensim \n",
    "%matplotlib inline\n",
    "import re"
   ]
  },
  {
   "cell_type": "code",
   "execution_count": 35,
   "metadata": {},
   "outputs": [],
   "source": [
    "import warnings\n",
    "warnings.filterwarnings(\"ignore\",category=DeprecationWarning)"
   ]
  },
  {
   "cell_type": "code",
   "execution_count": 36,
   "metadata": {},
   "outputs": [],
   "source": [
    "from nltk.corpus import stopwords\n",
    "stop_words = stopwords.words('english')\n",
    "stop_words.extend(['from', 'subject', 're', 'edu', 'use'])"
   ]
  },
  {
   "cell_type": "code",
   "execution_count": 37,
   "metadata": {},
   "outputs": [],
   "source": [
    "df = pd.read_csv('/Users/jumananadir/Downloads/Eluvio_DS_Challenge.csv')"
   ]
  },
  {
   "cell_type": "code",
   "execution_count": 38,
   "metadata": {},
   "outputs": [
    {
     "data": {
      "text/html": [
       "<div>\n",
       "<style scoped>\n",
       "    .dataframe tbody tr th:only-of-type {\n",
       "        vertical-align: middle;\n",
       "    }\n",
       "\n",
       "    .dataframe tbody tr th {\n",
       "        vertical-align: top;\n",
       "    }\n",
       "\n",
       "    .dataframe thead th {\n",
       "        text-align: right;\n",
       "    }\n",
       "</style>\n",
       "<table border=\"1\" class=\"dataframe\">\n",
       "  <thead>\n",
       "    <tr style=\"text-align: right;\">\n",
       "      <th></th>\n",
       "      <th>time_created</th>\n",
       "      <th>date_created</th>\n",
       "      <th>up_votes</th>\n",
       "      <th>down_votes</th>\n",
       "      <th>title</th>\n",
       "      <th>over_18</th>\n",
       "      <th>author</th>\n",
       "      <th>category</th>\n",
       "    </tr>\n",
       "  </thead>\n",
       "  <tbody>\n",
       "    <tr>\n",
       "      <td>0</td>\n",
       "      <td>1201232046</td>\n",
       "      <td>2008-01-25</td>\n",
       "      <td>3</td>\n",
       "      <td>0</td>\n",
       "      <td>Scores killed in Pakistan clashes</td>\n",
       "      <td>False</td>\n",
       "      <td>polar</td>\n",
       "      <td>worldnews</td>\n",
       "    </tr>\n",
       "    <tr>\n",
       "      <td>1</td>\n",
       "      <td>1201232075</td>\n",
       "      <td>2008-01-25</td>\n",
       "      <td>2</td>\n",
       "      <td>0</td>\n",
       "      <td>Japan resumes refuelling mission</td>\n",
       "      <td>False</td>\n",
       "      <td>polar</td>\n",
       "      <td>worldnews</td>\n",
       "    </tr>\n",
       "    <tr>\n",
       "      <td>2</td>\n",
       "      <td>1201232523</td>\n",
       "      <td>2008-01-25</td>\n",
       "      <td>3</td>\n",
       "      <td>0</td>\n",
       "      <td>US presses Egypt on Gaza border</td>\n",
       "      <td>False</td>\n",
       "      <td>polar</td>\n",
       "      <td>worldnews</td>\n",
       "    </tr>\n",
       "    <tr>\n",
       "      <td>3</td>\n",
       "      <td>1201233290</td>\n",
       "      <td>2008-01-25</td>\n",
       "      <td>1</td>\n",
       "      <td>0</td>\n",
       "      <td>Jump-start economy: Give health care to all</td>\n",
       "      <td>False</td>\n",
       "      <td>fadi420</td>\n",
       "      <td>worldnews</td>\n",
       "    </tr>\n",
       "    <tr>\n",
       "      <td>4</td>\n",
       "      <td>1201274720</td>\n",
       "      <td>2008-01-25</td>\n",
       "      <td>4</td>\n",
       "      <td>0</td>\n",
       "      <td>Council of Europe bashes EU&amp;UN terror blacklist</td>\n",
       "      <td>False</td>\n",
       "      <td>mhermans</td>\n",
       "      <td>worldnews</td>\n",
       "    </tr>\n",
       "  </tbody>\n",
       "</table>\n",
       "</div>"
      ],
      "text/plain": [
       "   time_created date_created  up_votes  down_votes  \\\n",
       "0    1201232046   2008-01-25         3           0   \n",
       "1    1201232075   2008-01-25         2           0   \n",
       "2    1201232523   2008-01-25         3           0   \n",
       "3    1201233290   2008-01-25         1           0   \n",
       "4    1201274720   2008-01-25         4           0   \n",
       "\n",
       "                                             title  over_18    author  \\\n",
       "0                Scores killed in Pakistan clashes    False     polar   \n",
       "1                 Japan resumes refuelling mission    False     polar   \n",
       "2                  US presses Egypt on Gaza border    False     polar   \n",
       "3     Jump-start economy: Give health care to all     False   fadi420   \n",
       "4  Council of Europe bashes EU&UN terror blacklist    False  mhermans   \n",
       "\n",
       "    category  \n",
       "0  worldnews  \n",
       "1  worldnews  \n",
       "2  worldnews  \n",
       "3  worldnews  \n",
       "4  worldnews  "
      ]
     },
     "execution_count": 38,
     "metadata": {},
     "output_type": "execute_result"
    }
   ],
   "source": [
    "df.head()"
   ]
  },
  {
   "cell_type": "code",
   "execution_count": 8,
   "metadata": {},
   "outputs": [],
   "source": [
    "df = df[(df['date_created'] > '2008-01-24') & (df['date_created'] <= '2008-12-31')]"
   ]
  },
  {
   "cell_type": "code",
   "execution_count": 9,
   "metadata": {},
   "outputs": [
    {
     "name": "stdout",
     "output_type": "stream",
     "text": [
      "['Scores killed in Pakistan clashes']\n"
     ]
    }
   ],
   "source": [
    "data = df.title.values.tolist()\n",
    "\n",
    "# Remove Emails\n",
    "data = [re.sub('\\S*@\\S*\\s?', '', sent) for sent in data]\n",
    "\n",
    "# Remove new line characters\n",
    "data = [re.sub('\\s+', ' ', sent) for sent in data]\n",
    "\n",
    "# Remove distracting single quotes\n",
    "data = [re.sub(\"\\'\", \"\", sent) for sent in data]\n",
    "\n",
    "pprint(data[:1])"
   ]
  },
  {
   "cell_type": "code",
   "execution_count": 10,
   "metadata": {},
   "outputs": [
    {
     "name": "stdout",
     "output_type": "stream",
     "text": [
      "[['scores', 'killed', 'in', 'pakistan', 'clashes']]\n"
     ]
    }
   ],
   "source": [
    "def sent_to_words(sentences):\n",
    "    for sentence in sentences:\n",
    "        yield(gensim.utils.simple_preprocess(str(sentence), deacc=True))  # deacc=True removes punctuations\n",
    "\n",
    "data_words = list(sent_to_words(data))\n",
    "\n",
    "print(data_words[:1])"
   ]
  },
  {
   "cell_type": "code",
   "execution_count": 11,
   "metadata": {},
   "outputs": [],
   "source": [
    "bigram = gensim.models.Phrases(data_words, min_count=5, threshold=100) # higher threshold fewer phrases.\n",
    "trigram = gensim.models.Phrases(bigram[data_words], threshold=100)  "
   ]
  },
  {
   "cell_type": "code",
   "execution_count": 12,
   "metadata": {},
   "outputs": [],
   "source": [
    "bigram_mod = gensim.models.phrases.Phraser(bigram)\n",
    "trigram_mod = gensim.models.phrases.Phraser(trigram)"
   ]
  },
  {
   "cell_type": "code",
   "execution_count": 13,
   "metadata": {},
   "outputs": [
    {
     "name": "stdout",
     "output_type": "stream",
     "text": [
      "['scores', 'killed', 'in', 'pakistan', 'clashes']\n"
     ]
    }
   ],
   "source": [
    "print(trigram_mod[bigram_mod[data_words[0]]])"
   ]
  },
  {
   "cell_type": "code",
   "execution_count": 14,
   "metadata": {},
   "outputs": [],
   "source": [
    "def remove_stopwords(texts):\n",
    "    return [[word for word in simple_preprocess(str(doc)) if word not in stop_words] for doc in texts]"
   ]
  },
  {
   "cell_type": "code",
   "execution_count": 15,
   "metadata": {},
   "outputs": [],
   "source": [
    "def make_bigrams(texts):\n",
    "    return [bigram_mod[doc] for doc in texts]"
   ]
  },
  {
   "cell_type": "code",
   "execution_count": 16,
   "metadata": {},
   "outputs": [],
   "source": [
    "def make_trigrams(texts):\n",
    "    return [trigram_mod[bigram_mod[doc]] for doc in texts]"
   ]
  },
  {
   "cell_type": "code",
   "execution_count": 17,
   "metadata": {},
   "outputs": [],
   "source": [
    "def lemmatization(texts, allowed_postags=['NOUN', 'ADJ', 'VERB', 'ADV']):\n",
    "    \"\"\"https://spacy.io/api/annotation\"\"\"\n",
    "    texts_out = []\n",
    "    for sent in texts:\n",
    "        doc = nlp(\" \".join(sent)) \n",
    "        texts_out.append([token.lemma_ for token in doc if token.pos_ in allowed_postags])\n",
    "    return texts_out"
   ]
  },
  {
   "cell_type": "code",
   "execution_count": 18,
   "metadata": {},
   "outputs": [],
   "source": [
    "data_words_nostops = remove_stopwords(data_words)"
   ]
  },
  {
   "cell_type": "code",
   "execution_count": 19,
   "metadata": {},
   "outputs": [],
   "source": [
    "data_words_bigrams = make_bigrams(data_words_nostops)"
   ]
  },
  {
   "cell_type": "code",
   "execution_count": 20,
   "metadata": {},
   "outputs": [],
   "source": [
    "nlp = spacy.load('en_core_web_sm', disable=['parser', 'ner'])"
   ]
  },
  {
   "cell_type": "code",
   "execution_count": 21,
   "metadata": {},
   "outputs": [
    {
     "name": "stdout",
     "output_type": "stream",
     "text": [
      "[['score', 'kill', 'clash']]\n"
     ]
    }
   ],
   "source": [
    "# Do lemmatization keeping only noun, adj, vb, adv\n",
    "data_lemmatized = lemmatization(data_words_bigrams, allowed_postags=['NOUN', 'ADJ', 'VERB', 'ADV'])\n",
    "\n",
    "print(data_lemmatized[:1])"
   ]
  },
  {
   "cell_type": "code",
   "execution_count": 22,
   "metadata": {},
   "outputs": [],
   "source": [
    "id2word = corpora.Dictionary(data_lemmatized)"
   ]
  },
  {
   "cell_type": "code",
   "execution_count": 23,
   "metadata": {},
   "outputs": [],
   "source": [
    "texts = data_lemmatized"
   ]
  },
  {
   "cell_type": "code",
   "execution_count": 24,
   "metadata": {},
   "outputs": [
    {
     "name": "stdout",
     "output_type": "stream",
     "text": [
      "[[(0, 1), (1, 1), (2, 1)]]\n"
     ]
    }
   ],
   "source": [
    "# Term Document Frequency\n",
    "corpus = [id2word.doc2bow(text) for text in texts]\n",
    "print(corpus[:1])"
   ]
  },
  {
   "cell_type": "code",
   "execution_count": 25,
   "metadata": {},
   "outputs": [
    {
     "data": {
      "text/plain": [
       "'clash'"
      ]
     },
     "execution_count": 25,
     "metadata": {},
     "output_type": "execute_result"
    }
   ],
   "source": [
    "id2word[0]"
   ]
  },
  {
   "cell_type": "code",
   "execution_count": 26,
   "metadata": {},
   "outputs": [
    {
     "data": {
      "text/plain": [
       "[[('clash', 1), ('kill', 1), ('score', 1)]]"
      ]
     },
     "execution_count": 26,
     "metadata": {},
     "output_type": "execute_result"
    }
   ],
   "source": [
    "[[(id2word[id], freq) for id, freq in cp] for cp in corpus[:1]]"
   ]
  },
  {
   "cell_type": "code",
   "execution_count": 27,
   "metadata": {},
   "outputs": [],
   "source": [
    "#LDA model\n",
    "lda_model = gensim.models.ldamodel.LdaModel(corpus=corpus,\n",
    "                                           id2word=id2word,\n",
    "                                           num_topics=20, \n",
    "                                           random_state=100,\n",
    "                                           update_every=1,\n",
    "                                           chunksize=100,\n",
    "                                           passes=10,\n",
    "                                           alpha='auto',\n",
    "                                           per_word_topics=True)"
   ]
  },
  {
   "cell_type": "code",
   "execution_count": 28,
   "metadata": {},
   "outputs": [
    {
     "name": "stdout",
     "output_type": "stream",
     "text": [
      "[(0,\n",
      "  '0.186*\"crisis\" + 0.118*\"hour\" + 0.114*\"reject\" + 0.054*\"pass\" + '\n",
      "  '0.014*\"plunge\" + 0.001*\"resolution\" + 0.000*\"likely\" + 0.000*\"cease_fire\" + '\n",
      "  '0.000*\"girl\" + 0.000*\"saudi\"'),\n",
      " (1,\n",
      "  '0.275*\"year\" + 0.162*\"global\" + 0.129*\"get\" + 0.071*\"tell\" + '\n",
      "  '0.057*\"support\" + 0.033*\"launch\" + 0.031*\"worker\" + 0.012*\"control\" + '\n",
      "  '0.007*\"row\" + 0.006*\"migrant\"'),\n",
      " (2,\n",
      "  '0.414*\"israeli\" + 0.157*\"child\" + 0.107*\"use\" + 0.045*\"continue\" + '\n",
      "  '0.021*\"mass\" + 0.017*\"base\" + 0.000*\"palestinian\" + 0.000*\"day\" + '\n",
      "  '0.000*\"medium\" + 0.000*\"terrorist\"'),\n",
      " (3,\n",
      "  '0.177*\"government\" + 0.134*\"time\" + 0.079*\"pay\" + 0.063*\"violence\" + '\n",
      "  '0.060*\"top\" + 0.053*\"charge\" + 0.045*\"old\" + 0.036*\"large\" + '\n",
      "  '0.028*\"citizen\" + 0.027*\"ally\"'),\n",
      " (4,\n",
      "  '0.226*\"take\" + 0.100*\"report\" + 0.085*\"still\" + 0.084*\"good\" + 0.072*\"need\" '\n",
      "  '+ 0.054*\"run\" + 0.039*\"also\" + 0.023*\"eat\" + 0.023*\"website\" + '\n",
      "  '0.015*\"poor\"'),\n",
      " (5,\n",
      "  '0.153*\"hit\" + 0.137*\"dead\" + 0.110*\"live\" + 0.075*\"last\" + 0.074*\"spy\" + '\n",
      "  '0.033*\"earth\" + 0.024*\"mission\" + 0.014*\"king\" + 0.012*\"early\" + '\n",
      "  '0.000*\"girl\"'),\n",
      " (6,\n",
      "  '0.252*\"war\" + 0.108*\"end\" + 0.074*\"cut\" + 0.071*\"become\" + 0.054*\"shoot\" + '\n",
      "  '0.050*\"drug\" + 0.049*\"secret\" + 0.029*\"work\" + 0.029*\"rebel\" + 0.023*\"arm\"'),\n",
      " (7,\n",
      "  '0.438*\"attack\" + 0.209*\"bomb\" + 0.115*\"plan\" + 0.018*\"teacher\" + '\n",
      "  '0.000*\"target\" + 0.000*\"station\" + 0.000*\"television\" + 0.000*\"basque\" + '\n",
      "  '0.000*\"terrorist\" + 0.000*\"police\"'),\n",
      " (8,\n",
      "  '0.141*\"force\" + 0.102*\"leader\" + 0.092*\"troop\" + 0.085*\"hold\" + '\n",
      "  '0.076*\"protest\" + 0.072*\"border\" + 0.066*\"try\" + 0.063*\"talk\" + '\n",
      "  '0.039*\"home\" + 0.025*\"illegal\"'),\n",
      " (9,\n",
      "  '0.236*\"new\" + 0.194*\"blast\" + 0.174*\"man\" + 0.072*\"start\" + 0.023*\"footage\" '\n",
      "  '+ 0.014*\"plant\" + 0.011*\"vow\" + 0.005*\"reform\" + 0.004*\"surprise\" + '\n",
      "  '0.000*\"target\"'),\n",
      " (10,\n",
      "  '0.245*\"arrest\" + 0.192*\"indian\" + 0.066*\"crime\" + 0.050*\"doctor\" + '\n",
      "  '0.031*\"meet\" + 0.022*\"commit\" + 0.000*\"police\" + 0.000*\"suspect\" + '\n",
      "  '0.000*\"terrorist\" + 0.000*\"consider\"'),\n",
      " (11,\n",
      "  '0.087*\"press\" + 0.085*\"expose\" + 0.000*\"conference\" + 0.000*\"journalist\" + '\n",
      "  '0.000*\"former\" + 0.000*\"official\" + 0.000*\"source\" + 0.000*\"twitter\" + '\n",
      "  '0.000*\"consulate\" + 0.000*\"die\"'),\n",
      " (12,\n",
      "  '0.372*\"kill\" + 0.360*\"go\" + 0.000*\"dismantle\" + 0.000*\"people\" + '\n",
      "  '0.000*\"woman\" + 0.000*\"trial\" + 0.000*\"eye\" + 0.000*\"strike\" + '\n",
      "  '0.000*\"civilian\" + 0.000*\"police\"'),\n",
      " (13,\n",
      "  '0.348*\"video\" + 0.084*\"threaten\" + 0.076*\"allow\" + 0.069*\"court\" + '\n",
      "  '0.067*\"story\" + 0.030*\"evidence\" + 0.027*\"possible\" + 0.000*\"television\" + '\n",
      "  '0.000*\"station\" + 0.000*\"basque\"'),\n",
      " (14,\n",
      "  '0.304*\"world\" + 0.052*\"raise\" + 0.049*\"nuclear\" + 0.049*\"missile\" + '\n",
      "  '0.048*\"deny\" + 0.044*\"test\" + 0.041*\"steal\" + 0.035*\"iranian\" + '\n",
      "  '0.031*\"week\" + 0.021*\"map\"'),\n",
      " (15,\n",
      "  '0.161*\"economy\" + 0.085*\"ship\" + 0.076*\"help\" + 0.073*\"russian\" + '\n",
      "  '0.053*\"win\" + 0.050*\"internet\" + 0.048*\"release\" + 0.042*\"case\" + '\n",
      "  '0.040*\"back\" + 0.036*\"middle_east\"'),\n",
      " (16,\n",
      "  '0.461*\"say\" + 0.150*\"death\" + 0.090*\"military\" + 0.033*\"defend\" + '\n",
      "  '0.000*\"official\" + 0.000*\"iraqi\" + 0.000*\"police\" + 0.000*\"eye\" + '\n",
      "  '0.000*\"former\" + 0.000*\"woman\"'),\n",
      " (17,\n",
      "  '0.332*\"make\" + 0.110*\"boy\" + 0.034*\"town\" + 0.007*\"slay\" + 0.000*\"eye\" + '\n",
      "  '0.000*\"white\" + 0.000*\"day\" + 0.000*\"police\" + 0.000*\"news\" + '\n",
      "  '0.000*\"terrorist\"'),\n",
      " (18,\n",
      "  '0.221*\"call\" + 0.099*\"give\" + 0.082*\"law\" + 0.069*\"body\" + 0.044*\"send\" + '\n",
      "  '0.034*\"economic\" + 0.034*\"hospital\" + 0.033*\"bring\" + 0.033*\"urge\" + '\n",
      "  '0.027*\"word\"'),\n",
      " (19,\n",
      "  '0.163*\"life\" + 0.132*\"jail\" + 0.060*\"blow\" + 0.042*\"confirm\" + 0.038*\"film\" '\n",
      "  '+ 0.035*\"energy\" + 0.018*\"drink\" + 0.011*\"patient\" + 0.010*\"nude\" + '\n",
      "  '0.000*\"palestinian\"')]\n"
     ]
    }
   ],
   "source": [
    "# Printing the Keyword in the 10 Topics/Labels\n",
    "pprint(lda_model.print_topics())\n",
    "doc_lda = lda_model[corpus]"
   ]
  },
  {
   "cell_type": "code",
   "execution_count": 29,
   "metadata": {},
   "outputs": [
    {
     "name": "stdout",
     "output_type": "stream",
     "text": [
      "\n",
      "Perplexity:  -24.37361000809039\n",
      "\n",
      "Coherence Score:  0.4283470457415275\n"
     ]
    }
   ],
   "source": [
    "#Perplexity\n",
    "print('\\nPerplexity: ', lda_model.log_perplexity(corpus))\n",
    "\n",
    "# Calculate Coherence Score\n",
    "coherence_model_lda = CoherenceModel(model=lda_model, texts=data_lemmatized, dictionary=id2word, coherence='c_v')\n",
    "coherence_lda = coherence_model_lda.get_coherence()\n",
    "print('\\nCoherence Score: ', coherence_lda)"
   ]
  },
  {
   "cell_type": "code",
   "execution_count": 30,
   "metadata": {},
   "outputs": [
    {
     "name": "stderr",
     "output_type": "stream",
     "text": [
      "/Users/jumananadir/opt/anaconda3/lib/python3.7/site-packages/pyLDAvis/_prepare.py:257: FutureWarning: Sorting because non-concatenation axis is not aligned. A future version\n",
      "of pandas will change to not sort by default.\n",
      "\n",
      "To accept the future behavior, pass 'sort=False'.\n",
      "\n",
      "To retain the current behavior and silence the warning, pass 'sort=True'.\n",
      "\n",
      "  return pd.concat([default_term_info] + list(topic_dfs))\n"
     ]
    },
    {
     "data": {
      "text/html": [
       "\n",
       "<link rel=\"stylesheet\" type=\"text/css\" href=\"https://cdn.rawgit.com/bmabey/pyLDAvis/files/ldavis.v1.0.0.css\">\n",
       "\n",
       "\n",
       "<div id=\"ldavis_el337911124504720165997120948\"></div>\n",
       "<script type=\"text/javascript\">\n",
       "\n",
       "var ldavis_el337911124504720165997120948_data = {\"mdsDat\": {\"x\": [0.0943945693290849, 0.023826444632215237, 0.2749035579038797, 0.09897528044150852, -0.03008748043959319, 0.12484292898175535, -0.027140383540121046, -0.058377910601415395, -0.030655556751880853, 0.007324979053723698, 0.07901543351439365, -0.03469430663934689, -0.03133328916104902, -0.05427110087573694, -0.0700933693799076, -0.07201461722213215, -0.07475233717849883, -0.07456055302002912, -0.07462187456166339, -0.07068041448518653], \"y\": [0.10660578803969699, 0.013468760562675612, -0.257723986777311, 0.11864686235448578, -0.01432561922971448, 0.21696699480953288, -0.013374520130887869, -0.02339924986739206, -0.014756226539569458, 0.002893506195008799, 0.07118979039640147, -0.01608747203842907, -0.014747475019337587, -0.022238348044671643, -0.025934596850506766, -0.026162522618266296, -0.025982033925086696, -0.025759137898000908, -0.0258034158740194, -0.023477097544608114], \"topics\": [1, 2, 3, 4, 5, 6, 7, 8, 9, 10, 11, 12, 13, 14, 15, 16, 17, 18, 19, 20], \"cluster\": [1, 1, 1, 1, 1, 1, 1, 1, 1, 1, 1, 1, 1, 1, 1, 1, 1, 1, 1, 1], \"Freq\": [8.43378734588623, 7.855826377868652, 7.560037136077881, 7.41495418548584, 6.843576431274414, 6.829334259033203, 6.2461838722229, 6.003327369689941, 5.889540672302246, 5.070370197296143, 5.0700154304504395, 4.893479347229004, 4.838131904602051, 4.1761250495910645, 4.140030860900879, 2.6932575702667236, 2.0834550857543945, 2.0593621730804443, 1.4952187538146973, 0.4039880037307739]}, \"tinfo\": {\"Category\": [\"Default\", \"Default\", \"Default\", \"Default\", \"Default\", \"Default\", \"Default\", \"Default\", \"Default\", \"Default\", \"Default\", \"Default\", \"Default\", \"Default\", \"Default\", \"Default\", \"Default\", \"Default\", \"Default\", \"Default\", \"Default\", \"Default\", \"Default\", \"Default\", \"Default\", \"Default\", \"Default\", \"Default\", \"Default\", \"Default\", \"Topic1\", \"Topic1\", \"Topic1\", \"Topic1\", \"Topic1\", \"Topic1\", \"Topic1\", \"Topic1\", \"Topic1\", \"Topic1\", \"Topic1\", \"Topic1\", \"Topic1\", \"Topic1\", \"Topic1\", \"Topic1\", \"Topic1\", \"Topic1\", \"Topic1\", \"Topic1\", \"Topic1\", \"Topic1\", \"Topic1\", \"Topic1\", \"Topic1\", \"Topic1\", \"Topic1\", \"Topic1\", \"Topic1\", \"Topic1\", \"Topic1\", \"Topic1\", \"Topic1\", \"Topic1\", \"Topic1\", \"Topic1\", \"Topic2\", \"Topic2\", \"Topic2\", \"Topic2\", \"Topic2\", \"Topic2\", \"Topic2\", \"Topic2\", \"Topic2\", \"Topic2\", \"Topic2\", \"Topic2\", \"Topic2\", \"Topic2\", \"Topic2\", \"Topic2\", \"Topic2\", \"Topic2\", \"Topic2\", \"Topic2\", \"Topic2\", \"Topic2\", \"Topic2\", \"Topic2\", \"Topic2\", \"Topic2\", \"Topic2\", \"Topic2\", \"Topic2\", \"Topic2\", \"Topic2\", \"Topic2\", \"Topic2\", \"Topic2\", \"Topic2\", \"Topic2\", \"Topic2\", \"Topic3\", \"Topic3\", \"Topic3\", \"Topic3\", \"Topic3\", \"Topic3\", \"Topic3\", \"Topic3\", \"Topic3\", \"Topic3\", \"Topic3\", \"Topic3\", \"Topic3\", \"Topic3\", \"Topic3\", \"Topic3\", \"Topic3\", \"Topic3\", \"Topic3\", \"Topic3\", \"Topic3\", \"Topic3\", \"Topic3\", \"Topic3\", \"Topic3\", \"Topic3\", \"Topic3\", \"Topic3\", \"Topic3\", \"Topic3\", \"Topic3\", \"Topic3\", \"Topic3\", \"Topic3\", \"Topic3\", \"Topic4\", \"Topic4\", \"Topic4\", \"Topic4\", \"Topic4\", \"Topic4\", \"Topic4\", \"Topic4\", \"Topic4\", \"Topic4\", \"Topic4\", \"Topic4\", \"Topic4\", \"Topic4\", \"Topic4\", \"Topic4\", \"Topic4\", \"Topic4\", \"Topic4\", \"Topic4\", \"Topic4\", \"Topic4\", \"Topic4\", \"Topic4\", \"Topic4\", \"Topic4\", \"Topic4\", \"Topic4\", \"Topic4\", \"Topic4\", \"Topic4\", \"Topic4\", \"Topic4\", \"Topic4\", \"Topic4\", \"Topic4\", \"Topic4\", \"Topic4\", \"Topic4\", \"Topic4\", \"Topic4\", \"Topic5\", \"Topic5\", \"Topic5\", \"Topic5\", \"Topic5\", \"Topic5\", \"Topic5\", \"Topic5\", \"Topic5\", \"Topic5\", \"Topic5\", \"Topic5\", \"Topic5\", \"Topic5\", \"Topic5\", \"Topic5\", \"Topic5\", \"Topic5\", \"Topic5\", \"Topic5\", \"Topic5\", \"Topic5\", \"Topic5\", \"Topic5\", \"Topic5\", \"Topic5\", \"Topic5\", \"Topic5\", \"Topic5\", \"Topic5\", \"Topic5\", \"Topic5\", \"Topic5\", \"Topic5\", \"Topic5\", \"Topic5\", \"Topic5\", \"Topic5\", \"Topic5\", \"Topic6\", \"Topic6\", \"Topic6\", \"Topic6\", \"Topic6\", \"Topic6\", \"Topic6\", \"Topic6\", \"Topic6\", \"Topic6\", \"Topic6\", \"Topic6\", \"Topic6\", \"Topic6\", \"Topic6\", \"Topic6\", \"Topic6\", \"Topic6\", \"Topic6\", \"Topic6\", \"Topic6\", \"Topic6\", \"Topic6\", \"Topic6\", \"Topic6\", \"Topic6\", \"Topic6\", \"Topic6\", \"Topic6\", \"Topic6\", \"Topic6\", \"Topic6\", \"Topic6\", \"Topic6\", \"Topic6\", \"Topic6\", \"Topic6\", \"Topic6\", \"Topic7\", \"Topic7\", \"Topic7\", \"Topic7\", \"Topic7\", \"Topic7\", \"Topic7\", \"Topic7\", \"Topic7\", \"Topic7\", \"Topic7\", \"Topic7\", \"Topic7\", \"Topic7\", \"Topic7\", \"Topic7\", \"Topic7\", \"Topic7\", \"Topic7\", \"Topic7\", \"Topic7\", \"Topic7\", \"Topic7\", \"Topic7\", \"Topic7\", \"Topic7\", \"Topic7\", \"Topic7\", \"Topic7\", \"Topic7\", \"Topic7\", \"Topic7\", \"Topic7\", \"Topic7\", \"Topic7\", \"Topic7\", \"Topic7\", \"Topic8\", \"Topic8\", \"Topic8\", \"Topic8\", \"Topic8\", \"Topic8\", \"Topic8\", \"Topic8\", \"Topic8\", \"Topic8\", \"Topic8\", \"Topic8\", \"Topic8\", \"Topic8\", \"Topic8\", \"Topic8\", \"Topic8\", \"Topic8\", \"Topic8\", \"Topic8\", \"Topic8\", \"Topic8\", \"Topic8\", \"Topic8\", \"Topic8\", \"Topic8\", \"Topic8\", \"Topic8\", \"Topic8\", \"Topic8\", \"Topic8\", \"Topic8\", \"Topic8\", \"Topic8\", \"Topic8\", \"Topic8\", \"Topic8\", \"Topic8\", \"Topic8\", \"Topic8\", \"Topic9\", \"Topic9\", \"Topic9\", \"Topic9\", \"Topic9\", \"Topic9\", \"Topic9\", \"Topic9\", \"Topic9\", \"Topic9\", \"Topic9\", \"Topic9\", \"Topic9\", \"Topic9\", \"Topic9\", \"Topic9\", \"Topic9\", \"Topic9\", \"Topic9\", \"Topic9\", \"Topic9\", \"Topic9\", \"Topic9\", \"Topic9\", \"Topic9\", \"Topic9\", \"Topic9\", \"Topic9\", \"Topic9\", \"Topic9\", \"Topic9\", \"Topic9\", \"Topic9\", \"Topic9\", \"Topic9\", \"Topic9\", \"Topic9\", \"Topic9\", \"Topic10\", \"Topic10\", \"Topic10\", \"Topic10\", \"Topic10\", \"Topic10\", \"Topic10\", \"Topic10\", \"Topic10\", \"Topic10\", \"Topic10\", \"Topic10\", \"Topic10\", \"Topic10\", \"Topic10\", \"Topic10\", \"Topic10\", \"Topic10\", \"Topic10\", \"Topic10\", \"Topic10\", \"Topic10\", \"Topic10\", \"Topic10\", \"Topic10\", \"Topic10\", \"Topic10\", \"Topic10\", \"Topic10\", \"Topic10\", \"Topic10\", \"Topic10\", \"Topic10\", \"Topic10\", \"Topic10\", \"Topic10\", \"Topic10\", \"Topic10\", \"Topic10\", \"Topic10\", \"Topic10\", \"Topic11\", \"Topic11\", \"Topic11\", \"Topic11\", \"Topic11\", \"Topic11\", \"Topic11\", \"Topic11\", \"Topic11\", \"Topic11\", \"Topic11\", \"Topic11\", \"Topic11\", \"Topic11\", \"Topic11\", \"Topic11\", \"Topic11\", \"Topic11\", \"Topic11\", \"Topic11\", \"Topic11\", \"Topic11\", \"Topic11\", \"Topic11\", \"Topic11\", \"Topic11\", \"Topic11\", \"Topic11\", \"Topic11\", \"Topic11\", \"Topic11\", \"Topic11\", \"Topic11\", \"Topic11\", \"Topic11\", \"Topic11\", \"Topic12\", \"Topic12\", \"Topic12\", \"Topic12\", \"Topic12\", \"Topic12\", \"Topic12\", \"Topic12\", \"Topic12\", \"Topic12\", \"Topic12\", \"Topic12\", \"Topic12\", \"Topic12\", \"Topic12\", \"Topic12\", \"Topic12\", \"Topic12\", \"Topic12\", \"Topic12\", \"Topic12\", \"Topic12\", \"Topic12\", \"Topic12\", \"Topic12\", \"Topic12\", \"Topic12\", \"Topic12\", \"Topic12\", \"Topic12\", \"Topic12\", \"Topic12\", \"Topic12\", \"Topic12\", \"Topic12\", \"Topic12\", \"Topic13\", \"Topic13\", \"Topic13\", \"Topic13\", \"Topic13\", \"Topic13\", \"Topic13\", \"Topic13\", \"Topic13\", \"Topic13\", \"Topic13\", \"Topic13\", \"Topic13\", \"Topic13\", \"Topic13\", \"Topic13\", \"Topic13\", \"Topic13\", \"Topic13\", \"Topic13\", \"Topic13\", \"Topic13\", \"Topic13\", \"Topic13\", \"Topic13\", \"Topic13\", \"Topic13\", \"Topic13\", \"Topic13\", \"Topic13\", \"Topic13\", \"Topic13\", \"Topic13\", \"Topic13\", \"Topic13\", \"Topic13\", \"Topic13\", \"Topic13\", \"Topic14\", \"Topic14\", \"Topic14\", \"Topic14\", \"Topic14\", \"Topic14\", \"Topic14\", \"Topic14\", \"Topic14\", \"Topic14\", \"Topic14\", \"Topic14\", \"Topic14\", \"Topic14\", \"Topic14\", \"Topic14\", \"Topic14\", \"Topic14\", \"Topic14\", \"Topic14\", \"Topic14\", \"Topic14\", \"Topic14\", \"Topic14\", \"Topic14\", \"Topic14\", \"Topic14\", \"Topic14\", \"Topic14\", \"Topic14\", \"Topic14\", \"Topic14\", \"Topic14\", \"Topic14\", \"Topic14\", \"Topic14\", \"Topic14\", \"Topic14\", \"Topic14\", \"Topic14\", \"Topic15\", \"Topic15\", \"Topic15\", \"Topic15\", \"Topic15\", \"Topic15\", \"Topic15\", \"Topic15\", \"Topic15\", \"Topic15\", \"Topic15\", \"Topic15\", \"Topic15\", \"Topic15\", \"Topic15\", \"Topic15\", \"Topic15\", \"Topic15\", \"Topic15\", \"Topic15\", \"Topic15\", \"Topic15\", \"Topic15\", \"Topic15\", \"Topic15\", \"Topic15\", \"Topic15\", \"Topic15\", \"Topic15\", \"Topic15\", \"Topic15\", \"Topic15\", \"Topic15\", \"Topic15\", \"Topic15\", \"Topic15\", \"Topic15\", \"Topic15\", \"Topic15\", \"Topic15\", \"Topic15\", \"Topic15\", \"Topic15\", \"Topic15\", \"Topic16\", \"Topic16\", \"Topic16\", \"Topic16\", \"Topic16\", \"Topic16\", \"Topic16\", \"Topic16\", \"Topic16\", \"Topic16\", \"Topic16\", \"Topic16\", \"Topic16\", \"Topic16\", \"Topic16\", \"Topic16\", \"Topic16\", \"Topic16\", \"Topic16\", \"Topic16\", \"Topic16\", \"Topic16\", \"Topic16\", \"Topic16\", \"Topic16\", \"Topic16\", \"Topic16\", \"Topic16\", \"Topic16\", \"Topic16\", \"Topic16\", \"Topic16\", \"Topic16\", \"Topic16\", \"Topic16\", \"Topic16\", \"Topic16\", \"Topic16\", \"Topic16\", \"Topic16\", \"Topic16\", \"Topic17\", \"Topic17\", \"Topic17\", \"Topic17\", \"Topic17\", \"Topic17\", \"Topic17\", \"Topic17\", \"Topic17\", \"Topic17\", \"Topic17\", \"Topic17\", \"Topic17\", \"Topic17\", \"Topic17\", \"Topic17\", \"Topic17\", \"Topic17\", \"Topic17\", \"Topic17\", \"Topic17\", \"Topic17\", \"Topic17\", \"Topic17\", \"Topic17\", \"Topic17\", \"Topic17\", \"Topic17\", \"Topic17\", \"Topic17\", \"Topic17\", \"Topic17\", \"Topic17\", \"Topic17\", \"Topic17\", \"Topic17\", \"Topic17\", \"Topic17\", \"Topic17\", \"Topic17\", \"Topic18\", \"Topic18\", \"Topic18\", \"Topic18\", \"Topic18\", \"Topic18\", \"Topic18\", \"Topic18\", \"Topic18\", \"Topic18\", \"Topic18\", \"Topic18\", \"Topic18\", \"Topic18\", \"Topic18\", \"Topic18\", \"Topic18\", \"Topic18\", \"Topic18\", \"Topic18\", \"Topic18\", \"Topic18\", \"Topic18\", \"Topic18\", \"Topic18\", \"Topic18\", \"Topic18\", \"Topic18\", \"Topic18\", \"Topic18\", \"Topic18\", \"Topic18\", \"Topic18\", \"Topic18\", \"Topic18\", \"Topic18\", \"Topic18\", \"Topic18\", \"Topic18\", \"Topic18\", \"Topic18\", \"Topic19\", \"Topic19\", \"Topic19\", \"Topic19\", \"Topic19\", \"Topic19\", \"Topic19\", \"Topic19\", \"Topic19\", \"Topic19\", \"Topic19\", \"Topic19\", \"Topic19\", \"Topic19\", \"Topic19\", \"Topic19\", \"Topic19\", \"Topic19\", \"Topic19\", \"Topic19\", \"Topic19\", \"Topic19\", \"Topic19\", \"Topic19\", \"Topic19\", \"Topic19\", \"Topic19\", \"Topic19\", \"Topic19\", \"Topic19\", \"Topic19\", \"Topic19\", \"Topic19\", \"Topic19\", \"Topic19\", \"Topic19\", \"Topic19\", \"Topic19\", \"Topic19\", \"Topic19\", \"Topic20\", \"Topic20\", \"Topic20\", \"Topic20\", \"Topic20\", \"Topic20\", \"Topic20\", \"Topic20\", \"Topic20\", \"Topic20\", \"Topic20\", \"Topic20\", \"Topic20\", \"Topic20\", \"Topic20\", \"Topic20\", \"Topic20\", \"Topic20\", \"Topic20\", \"Topic20\", \"Topic20\", \"Topic20\", \"Topic20\", \"Topic20\", \"Topic20\", \"Topic20\", \"Topic20\", \"Topic20\", \"Topic20\", \"Topic20\", \"Topic20\", \"Topic20\", \"Topic20\", \"Topic20\", \"Topic20\", \"Topic20\", \"Topic20\"], \"Freq\": [3370.0, 2369.0, 2242.0, 1922.0, 1862.0, 1950.0, 2007.0, 1999.0, 1554.0, 1506.0, 1393.0, 1484.0, 1232.0, 1131.0, 1303.0, 1184.0, 1268.0, 1013.0, 1098.0, 731.0, 1125.0, 910.0, 706.0, 850.0, 939.0, 919.0, 853.0, 679.0, 834.0, 553.0, 1265.5478515625, 916.560791015625, 832.0397338867188, 769.1834716796875, 681.6638793945312, 650.7757568359375, 594.491455078125, 567.8589477539062, 352.4560241699219, 226.52210998535156, 97.3781967163086, 87.73331451416016, 18.718656539916992, 0.18356451392173767, 0.18354929983615875, 0.1834687441587448, 0.18348069489002228, 0.18348565697669983, 0.18346284329891205, 0.18349237740039825, 0.18345759809017181, 0.18357791006565094, 0.18346206843852997, 0.18344126641750336, 0.18343697488307953, 0.18343797326087952, 0.18346616625785828, 0.18344256281852722, 0.18347793817520142, 0.18347734212875366, 0.18356367945671082, 0.1834694892168045, 0.18353113532066345, 0.18349286913871765, 0.18348641693592072, 0.18346622586250305, 1482.145751953125, 1123.0321044921875, 661.489501953125, 528.5628662109375, 498.73828125, 440.3761291503906, 374.8362731933594, 299.9415283203125, 232.92108154296875, 228.98825073242188, 204.73550415039062, 137.87327575683594, 104.83686828613281, 61.69245910644531, 44.284210205078125, 28.553163528442383, 0.18275025486946106, 0.18270708620548248, 0.18275152146816254, 0.18268489837646484, 0.18269407749176025, 0.182674378156662, 0.18268297612667084, 0.18267640471458435, 0.18271245062351227, 0.18273575603961945, 0.18271172046661377, 0.18266978859901428, 0.18267448246479034, 0.18269787728786469, 0.1826888620853424, 0.18268977105617523, 0.182721808552742, 0.18269914388656616, 0.18270300328731537, 0.18269415199756622, 0.1826896071434021, 1301.1363525390625, 684.380615234375, 612.039306640625, 591.1710815429688, 429.98760986328125, 402.26806640625, 386.6116638183594, 335.8390808105469, 322.013427734375, 290.9017333984375, 268.4353942871094, 257.3797912597656, 244.89129638671875, 172.7095489501953, 115.6046142578125, 33.15260696411133, 7.489034175872803, 0.15321463346481323, 0.15317454934120178, 0.15317869186401367, 0.1526080220937729, 0.15254944562911987, 0.15253789722919464, 0.15251106023788452, 0.1525215357542038, 0.152503103017807, 0.15250200033187866, 0.1525220274925232, 0.15250085294246674, 0.15250557661056519, 0.15251165628433228, 0.1525695025920868, 0.1525634080171585, 0.1525595337152481, 0.1525367647409439, 1996.8719482421875, 850.55908203125, 582.3107299804688, 558.4552001953125, 424.296875, 396.1008605957031, 390.6143493652344, 226.4300079345703, 225.6561737060547, 185.75128173828125, 152.35324096679688, 131.85877990722656, 92.2965316772461, 0.16091305017471313, 0.16079115867614746, 0.1607925295829773, 0.1607709527015686, 0.16076596081256866, 0.16078457236289978, 0.16075021028518677, 0.16074591875076294, 0.16074852645397186, 0.1607397347688675, 0.16073894500732422, 0.1607654094696045, 0.1607392132282257, 0.16074001789093018, 0.16074174642562866, 0.16073951125144958, 0.16074372828006744, 0.16076616942882538, 0.16084662079811096, 0.16080497205257416, 0.16075365245342255, 0.16076646745204926, 0.16077370941638947, 0.1607820689678192, 0.16077370941638947, 0.160759836435318, 0.16076673567295074, 0.16075490415096283, 3368.092529296875, 1095.533203125, 659.0037841796875, 241.2030029296875, 0.1834409385919571, 0.1834118366241455, 0.18337927758693695, 0.18337523937225342, 0.18337668478488922, 0.18340200185775757, 0.18339723348617554, 0.1833825409412384, 0.18338783085346222, 0.1833369880914688, 0.1833360195159912, 0.18335460126399994, 0.18334296345710754, 0.1833239495754242, 0.18334689736366272, 0.18334811925888062, 0.18334995210170746, 0.18334627151489258, 0.18331576883792877, 0.1833501011133194, 0.1833384931087494, 0.18331190943717957, 0.1833183765411377, 0.1833082139492035, 0.1833082139492035, 0.18330958485603333, 0.18333961069583893, 0.18334822356700897, 0.18339590728282928, 0.18333309888839722, 0.18334804475307465, 0.183405801653862, 0.1833430528640747, 0.18334747850894928, 0.1833365559577942, 2004.75048828125, 1181.51123046875, 937.2708740234375, 514.673095703125, 417.7054748535156, 243.94920349121094, 226.475341796875, 87.359375, 53.648250579833984, 40.7912483215332, 33.24343490600586, 0.1464349776506424, 0.1463252753019333, 0.1463066041469574, 0.14628592133522034, 0.14629344642162323, 0.14626751840114594, 0.1462702602148056, 0.1463167816400528, 0.14626960456371307, 0.14625662565231323, 0.14627543091773987, 0.14626705646514893, 0.14627841114997864, 0.14625979959964752, 0.1462545096874237, 0.1462567001581192, 0.1462494432926178, 0.1462494432926178, 0.1462494432926178, 0.14628201723098755, 0.14626316726207733, 0.14628060162067413, 0.14629612863063812, 0.14627525210380554, 0.1463014930486679, 0.14630326628684998, 0.14626789093017578, 1504.2451171875, 664.0338134765625, 563.3017578125, 562.8692016601562, 482.7743225097656, 361.3299560546875, 262.04632568359375, 156.28256225585938, 151.6220703125, 98.01605987548828, 71.58552551269531, 60.613433837890625, 0.16352953016757965, 0.16348788142204285, 0.16346894204616547, 0.16342246532440186, 0.1634075790643692, 0.16340836882591248, 0.1634022295475006, 0.1634180247783661, 0.1633838266134262, 0.1633814126253128, 0.1633845418691635, 0.16340148448944092, 0.16338373720645905, 0.16337604820728302, 0.16336692869663239, 0.16338767111301422, 0.16336525976657867, 0.16336333751678467, 0.16344626247882843, 0.1633893847465515, 0.16344459354877472, 0.16342303156852722, 0.16341377794742584, 0.1634068489074707, 0.16338951885700226, 1947.68994140625, 335.16131591796875, 313.4099426269531, 312.8223876953125, 308.3782653808594, 282.7666931152344, 263.17034912109375, 225.37420654296875, 200.11968994140625, 136.6613006591797, 104.77790069580078, 0.18705198168754578, 0.1869714856147766, 0.1870066225528717, 0.1869695782661438, 0.1869528740644455, 0.1869553029537201, 0.18696442246437073, 0.18694424629211426, 0.1869516521692276, 0.18694020807743073, 0.1869400590658188, 0.18694832921028137, 0.18694433569908142, 0.1869363784790039, 0.18693646788597107, 0.1869487315416336, 0.18693789839744568, 0.1870759129524231, 0.18694406747817993, 0.18700295686721802, 0.18697784841060638, 0.18697704374790192, 0.1869610697031021, 0.18700069189071655, 0.18695418536663055, 0.18698202073574066, 0.18695801496505737, 0.18697451055049896, 0.18695786595344543, 1390.75341796875, 619.1560668945312, 514.4313354492188, 435.552734375, 278.90716552734375, 214.55279541015625, 210.83045959472656, 210.22079467773438, 204.38230895996094, 168.7248077392578, 142.83660888671875, 141.6905517578125, 67.87934875488281, 24.49147605895996, 19.29793930053711, 0.15536391735076904, 0.155365988612175, 0.15535008907318115, 0.15534962713718414, 0.15538614988327026, 0.15532492101192474, 0.15531238913536072, 0.155315101146698, 0.15531092882156372, 0.15531951189041138, 0.1553589552640915, 0.1553100198507309, 0.15530461072921753, 0.15532729029655457, 0.15529777109622955, 0.15531787276268005, 0.1553514003753662, 0.15536272525787354, 0.15536773204803467, 0.15532584488391876, 0.1553245484828949, 0.15534275770187378, 0.155321404337883, 2240.37890625, 847.7164916992188, 577.9249267578125, 243.70481872558594, 111.70526123046875, 89.85578918457031, 0.12304152548313141, 0.12294433265924454, 0.1229722872376442, 0.12291213124990463, 0.12290928512811661, 0.12289727479219437, 0.12288636714220047, 0.1228882297873497, 0.12289358675479889, 0.12288516014814377, 0.12288355827331543, 0.12288378179073334, 0.12288430333137512, 0.12289165705442429, 0.12287711352109909, 0.12288288027048111, 0.1228872761130333, 0.12288027256727219, 0.12289706617593765, 0.12287770956754684, 0.1229025200009346, 0.1228734478354454, 0.12287254631519318, 0.12286671251058578, 0.12288622558116913, 0.12288413941860199, 0.1228887140750885, 0.12292932718992233, 0.12288395315408707, 0.1229005977511406, 0.12289424240589142, 0.12289801239967346, 0.12288600951433182, 0.12288664281368256, 0.12288447469472885, 2366.6865234375, 1128.5543212890625, 624.2208251953125, 96.17986297607422, 0.11330080777406693, 0.11328058689832687, 0.11325252056121826, 0.11325281113386154, 0.1132185161113739, 0.11301897466182709, 0.11299023032188416, 0.11298209428787231, 0.11303982138633728, 0.11296059936285019, 0.11296362429857254, 0.11293227970600128, 0.11293187737464905, 0.11294328421354294, 0.11292856186628342, 0.11293219029903412, 0.11292485892772675, 0.11292381584644318, 0.11292821913957596, 0.11292894184589386, 0.1129235178232193, 0.11294402182102203, 0.1129213497042656, 0.11293774098157883, 0.11292453110218048, 0.11293267458677292, 0.11293549835681915, 0.11293184757232666, 0.11294198036193848, 0.11293266713619232, 0.11295229941606522, 0.11293547600507736, 1229.9761962890625, 1010.5178833007812, 907.4900512695312, 376.1109924316406, 121.98528289794922, 70.67636108398438, 57.797725677490234, 27.852720260620117, 18.95380210876465, 0.1330103725194931, 0.13299521803855896, 0.1329835206270218, 0.13296592235565186, 0.13252253830432892, 0.1325131356716156, 0.1324954628944397, 0.13248348236083984, 0.1324855536222458, 0.13248620927333832, 0.13250306248664856, 0.13248002529144287, 0.13247931003570557, 0.13250865042209625, 0.1324775367975235, 0.1324738711118698, 0.1324680596590042, 0.13246756792068481, 0.13249614834785461, 0.13248352706432343, 0.1324588805437088, 0.13251377642154694, 0.13252900540828705, 0.13248704373836517, 0.13250306248664856, 0.1325085163116455, 0.1324876993894577, 1919.8836669921875, 1860.3994140625, 0.1314358115196228, 0.13076649606227875, 0.13075590133666992, 0.13074710965156555, 0.1307595670223236, 0.13075609505176544, 0.1308189481496811, 0.13072654604911804, 0.13073398172855377, 0.130723237991333, 0.13072475790977478, 0.13070547580718994, 0.13071992993354797, 0.13070973753929138, 0.1307700276374817, 0.13070480525493622, 0.13069529831409454, 0.13069653511047363, 0.130693256855011, 0.13069915771484375, 0.13068945705890656, 0.13068784773349762, 0.1307051181793213, 0.13068853318691254, 0.13071466982364655, 0.13073793053627014, 0.13069312274456024, 0.13068842887878418, 0.13070392608642578, 0.1307089924812317, 0.1307198405265808, 0.13075406849384308, 0.13074204325675964, 0.13070963323116302, 0.13070392608642578, 0.13069970905780792, 1552.08056640625, 372.2688903808594, 338.8234558105469, 308.9833679199219, 296.9512634277344, 131.58004760742188, 118.35698699951172, 0.12700925767421722, 0.12701444327831268, 0.1270134449005127, 0.12700916826725006, 0.12661196291446686, 0.1265169382095337, 0.1265062838792801, 0.12649649381637573, 0.1264965981245041, 0.1265001893043518, 0.1265009045600891, 0.12650977075099945, 0.12649525701999664, 0.12648999691009521, 0.1264946609735489, 0.12649114429950714, 0.12649960815906525, 0.12651333212852478, 0.12648196518421173, 0.12648360431194305, 0.12649007141590118, 0.12648940086364746, 0.12649638950824738, 0.12649139761924744, 0.1264977753162384, 0.12650497257709503, 0.1265048086643219, 0.12650041282176971, 0.1265290528535843, 0.12649935483932495, 0.12650366127490997, 0.12649883329868317, 0.1264999359846115, 676.8884887695312, 606.228515625, 486.6855163574219, 330.99700927734375, 327.8162841796875, 145.0207061767578, 104.98312377929688, 61.79862594604492, 51.67570877075195, 0.1538841277360916, 0.15384915471076965, 0.1538347452878952, 0.153839111328125, 0.1538192629814148, 0.15382498502731323, 0.1538069248199463, 0.15383026003837585, 0.15381386876106262, 0.15382793545722961, 0.1538008451461792, 0.15383513271808624, 0.15380097925662994, 0.1538097858428955, 0.15379559993743896, 0.15379559993743896, 0.15379559993743896, 0.15379561483860016, 0.15379570424556732, 0.15379570424556732, 0.1537971794605255, 0.15381190180778503, 0.1538078337907791, 0.15383267402648926, 0.15382245182991028, 0.15381990373134613, 0.15381409227848053, 0.15381653606891632, 0.15382061898708344, 0.15382035076618195, 0.1538151055574417, 0.15385273098945618, 0.1538313776254654, 0.153829887509346, 0.1538209766149521, 704.3419799804688, 550.6236572265625, 190.55361938476562, 144.7410125732422, 89.75321960449219, 64.58993530273438, 0.10697063058614731, 0.10689028352499008, 0.10686321556568146, 0.10685469955205917, 0.10685190558433533, 0.10683716833591461, 0.10684292018413544, 0.1068282201886177, 0.10683693736791611, 0.10685602575540543, 0.10682696849107742, 0.10685227066278458, 0.10683392733335495, 0.10683317482471466, 0.106819286942482, 0.10682277381420135, 0.10681646317243576, 0.10681933909654617, 0.10684193670749664, 0.10681574791669846, 0.10682261735200882, 0.10682331770658493, 0.1068129912018776, 0.10681168735027313, 0.10681337863206863, 0.10681669414043427, 0.10681647062301636, 0.10683382302522659, 0.10686995089054108, 0.10682975500822067, 0.10683131217956543, 0.10682912170886993, 0.10682479292154312, 0.1068352460861206, 0.10682456940412521, 361.4971618652344, 292.6456604003906, 132.48126220703125, 94.16786193847656, 84.84276580810547, 76.85954284667969, 41.01668167114258, 23.596216201782227, 22.02364158630371, 0.10356003791093826, 0.10354917496442795, 0.10354965180158615, 0.103540800511837, 0.10353778302669525, 0.10353080928325653, 0.10353399068117142, 0.10353680700063705, 0.10353080928325653, 0.10356523841619492, 0.10355444252490997, 0.10353361070156097, 0.10352674126625061, 0.10352624952793121, 0.10352624952793121, 0.10353926569223404, 0.10353019088506699, 0.10352624952793121, 0.10352775454521179, 0.10352775454521179, 0.10353875160217285, 0.1035396158695221, 0.10353173315525055, 0.1035493016242981, 0.1035328060388565, 0.10353775322437286, 0.10354095697402954, 0.1035425066947937, 0.1035354807972908, 0.1035444438457489, 0.10354077070951462, 728.9534912109375, 240.912109375, 74.63663482666016, 16.4473819732666, 0.10760018229484558, 0.10754247009754181, 0.10750214755535126, 0.10750214755535126, 0.10750214755535126, 0.10750682651996613, 0.10750214755535126, 0.10749991238117218, 0.10750433802604675, 0.1074964851140976, 0.10750352591276169, 0.10749418288469315, 0.10749418288469315, 0.10749418288469315, 0.10750323534011841, 0.10749568790197372, 0.10749568790197372, 0.1075022965669632, 0.10749614983797073, 0.1074947938323021, 0.1074947938323021, 0.10750175267457962, 0.10750609636306763, 0.10749473422765732, 0.1074904203414917, 0.10750214755535126, 0.10751663893461227, 0.10752864181995392, 0.10750215500593185, 0.10750775039196014, 0.10752619057893753, 0.10749944299459457, 0.10750038176774979, 0.10750292241573334, 0.10751204192638397, 0.10749993473291397, 0.10749822109937668, 297.1121520996094, 188.07923889160156, 182.53076171875, 85.6742935180664, 22.687301635742188, 1.4509618282318115, 0.07741467654705048, 0.07741525769233704, 0.07740600407123566, 0.07739660888910294, 0.07739358395338058, 0.07739400863647461, 0.07738946378231049, 0.07738946378231049, 0.07738787680864334, 0.0773894265294075, 0.07740850746631622, 0.07739220559597015, 0.07738319039344788, 0.07738319039344788, 0.07738319039344788, 0.07738319039344788, 0.07738785445690155, 0.07738182693719864, 0.07738319039344788, 0.07738319039344788, 0.07738059759140015, 0.07738182693719864, 0.07738356292247772, 0.07738028466701508, 0.07738028466701508, 0.07738494127988815, 0.07738319039344788, 0.07738950848579407, 0.07738340646028519, 0.07738716155290604, 0.07738785445690155, 0.0773852989077568, 0.07738403230905533, 0.07738319039344788, 37.329105377197266, 36.68560791015625, 0.03379286080598831, 0.033774279057979584, 0.03377353399991989, 0.03377309441566467, 0.03377353399991989, 0.03377309441566467, 0.03377309441566467, 0.03377793729305267, 0.03377309441566467, 0.03377141058444977, 0.03377141058444977, 0.03377309441566467, 0.03377141058444977, 0.03377141058444977, 0.03377309441566467, 0.03376917913556099, 0.03377141058444977, 0.03377141058444977, 0.03377141058444977, 0.03376885876059532, 0.03376885876059532, 0.03376885876059532, 0.03376885876059532, 0.03376885876059532, 0.03376917913556099, 0.03377141058444977, 0.03376753628253937, 0.03376753628253937, 0.033775754272937775, 0.03377141058444977, 0.03377430886030197, 0.03377309441566467, 0.03377141058444977, 0.03377141058444977, 0.03377203643321991], \"Term\": [\"say\", \"attack\", \"israeli\", \"kill\", \"go\", \"world\", \"year\", \"war\", \"video\", \"take\", \"call\", \"government\", \"new\", \"bomb\", \"economy\", \"global\", \"force\", \"blast\", \"death\", \"make\", \"time\", \"man\", \"arrest\", \"child\", \"get\", \"leader\", \"end\", \"hit\", \"troop\", \"indian\", \"force\", \"leader\", \"troop\", \"hold\", \"protest\", \"border\", \"try\", \"talk\", \"home\", \"illegal\", \"unveil\", \"farmer\", \"hide\", \"move\", \"palestinian\", \"pot\", \"turn\", \"break\", \"risk\", \"even\", \"coalition\", \"police\", \"pakistani\", \"prevent\", \"climate\", \"near\", \"iraqi\", \"ton\", \"fire\", \"see\", \"people\", \"warn\", \"terrorist\", \"find\", \"woman\", \"come\", \"government\", \"time\", \"pay\", \"violence\", \"top\", \"charge\", \"old\", \"large\", \"citizen\", \"ally\", \"job\", \"comment\", \"decline\", \"envoy\", \"southern\", \"bid\", \"employee\", \"bank\", \"first\", \"rather\", \"consider\", \"blackwater\", \"system\", \"sign\", \"face\", \"collapse\", \"official\", \"finally\", \"change\", \"big\", \"rule\", \"chinese\", \"people\", \"find\", \"woman\", \"police\", \"terrorist\", \"economy\", \"ship\", \"help\", \"russian\", \"win\", \"internet\", \"release\", \"case\", \"back\", \"middle_east\", \"search\", \"build\", \"japanese\", \"access\", \"picture\", \"torch\", \"surveillance\", \"collapse\", \"bombing\", \"raid\", \"pirate\", \"yen\", \"cable\", \"engine\", \"company\", \"damage\", \"communication\", \"begin\", \"passenger\", \"block\", \"german\", \"terrorist\", \"police\", \"people\", \"find\", \"war\", \"end\", \"cut\", \"become\", \"shoot\", \"drug\", \"secret\", \"work\", \"rebel\", \"arm\", \"capital\", \"storm\", \"flight\", \"people\", \"cable\", \"order\", \"challenge\", \"term\", \"today\", \"revelation\", \"population\", \"half\", \"gag\", \"participant\", \"link\", \"punishable\", \"secretly\", \"researcher\", \"produce\", \"hear\", \"fight\", \"police\", \"woman\", \"many\", \"face\", \"first\", \"find\", \"raid\", \"look\", \"day\", \"british\", \"say\", \"death\", \"military\", \"defend\", \"official\", \"iraqi\", \"nazi\", \"ratio\", \"enemy\", \"eye\", \"former\", \"leave\", \"fire\", \"important\", \"destruction\", \"journalist\", \"gas\", \"shot_dead\", \"save\", \"car\", \"rocket\", \"link\", \"error\", \"country\", \"sentence\", \"exceed\", \"office\", \"arse\", \"cheeseburger\", \"fat\", \"medium\", \"warn\", \"woman\", \"pakistani\", \"face\", \"police\", \"come\", \"terrorist\", \"people\", \"year\", \"global\", \"get\", \"tell\", \"support\", \"launch\", \"worker\", \"control\", \"row\", \"migrant\", \"standard\", \"people\", \"today\", \"let\", \"money\", \"prison\", \"exactly\", \"kid\", \"first\", \"occupy\", \"weird\", \"sentence\", \"late\", \"conflict\", \"ready\", \"cost\", \"sue\", \"intr\", \"compound\", \"monthly\", \"big\", \"vote\", \"stop\", \"day\", \"come\", \"terrorist\", \"police\", \"find\", \"take\", \"report\", \"still\", \"good\", \"need\", \"run\", \"also\", \"eat\", \"website\", \"poor\", \"idea\", \"loss\", \"news\", \"human_right\", \"look\", \"abuse\", \"bad\", \"car\", \"company\", \"family\", \"near\", \"lie\", \"alive\", \"know\", \"believe\", \"cure\", \"shit\", \"rocket\", \"united_state\", \"suck\", \"terrorist\", \"stop\", \"people\", \"woman\", \"find\", \"police\", \"day\", \"world\", \"raise\", \"nuclear\", \"missile\", \"deny\", \"test\", \"steal\", \"iranian\", \"week\", \"map\", \"true\", \"eye\", \"area\", \"news\", \"oil\", \"heist\", \"divorce\", \"place\", \"fast\", \"worth\", \"form\", \"import\", \"act\", \"discover\", \"heel\", \"insult\", \"muslim\", \"org\", \"people\", \"agree\", \"first\", \"big\", \"look\", \"saudi\", \"find\", \"save\", \"woman\", \"way\", \"police\", \"day\", \"call\", \"give\", \"law\", \"body\", \"send\", \"economic\", \"hospital\", \"bring\", \"urge\", \"word\", \"member\", \"yesterday\", \"clash\", \"punish\", \"mental\", \"refuse\", \"fight\", \"chinese\", \"terror\", \"find\", \"pro\", \"speech\", \"keep\", \"minister\", \"foreign\", \"first\", \"hoax\", \"resignation\", \"prison\", \"foolish\", \"throw\", \"day\", \"woman\", \"terrorist\", \"pirate\", \"official\", \"police\", \"british\", \"israeli\", \"child\", \"use\", \"continue\", \"mass\", \"base\", \"palestinian\", \"medium\", \"day\", \"gaza_strip\", \"rise\", \"arab\", \"settler\", \"bomber\", \"massive\", \"happen\", \"ratio\", \"nazi\", \"enemy\", \"security\", \"series\", \"injure\", \"abuse\", \"miss\", \"die\", \"carry\", \"fire\", \"repeat\", \"anger\", \"aircraft\", \"high\", \"hundred\", \"american\", \"terrorist\", \"begin\", \"woman\", \"raid\", \"police\", \"see\", \"people\", \"riot\", \"attack\", \"bomb\", \"plan\", \"teacher\", \"target\", \"station\", \"basque\", \"television\", \"terrorist\", \"terror\", \"mumbai\", \"rocket\", \"police\", \"action\", \"supply\", \"suicide_bomber\", \"volunteer\", \"civilian\", \"health\", \"seek\", \"truce\", \"daughter\", \"deadly\", \"prepare\", \"shield\", \"city\", \"acid\", \"month\", \"carry\", \"militant\", \"warn\", \"suspect\", \"day\", \"stop\", \"people\", \"palestinian\", \"new\", \"blast\", \"man\", \"start\", \"footage\", \"plant\", \"vow\", \"reform\", \"surprise\", \"target\", \"station\", \"television\", \"basque\", \"saudi\", \"create\", \"card\", \"raw\", \"married\", \"credit\", \"rule\", \"fund\", \"bloody\", \"girl\", \"entire\", \"wave\", \"white_house\", \"angry\", \"look\", \"shoe\", \"ethnic\", \"find\", \"people\", \"family\", \"woman\", \"police\", \"face\", \"kill\", \"go\", \"dismantle\", \"trial\", \"civilian\", \"hundred\", \"eye\", \"strike\", \"people\", \"other\", \"least\", \"nearly\", \"injure\", \"mine\", \"baby\", \"driver\", \"woman\", \"blame\", \"sicken\", \"drive\", \"teen\", \"scandal\", \"restaurant\", \"listen\", \"hand\", \"message\", \"warn\", \"day\", \"place\", \"next\", \"suspect\", \"sex\", \"palestinian\", \"police\", \"terrorist\", \"girl\", \"find\", \"british\", \"video\", \"threaten\", \"allow\", \"court\", \"story\", \"evidence\", \"possible\", \"basque\", \"television\", \"station\", \"target\", \"woman\", \"plot\", \"long\", \"average\", \"truck\", \"cure\", \"human\", \"high\", \"marriage\", \"anarchist\", \"mean\", \"enter\", \"german\", \"strike\", \"repay\", \"inspire\", \"cop\", \"public\", \"saudi\", \"demand\", \"show\", \"see\", \"girl\", \"riot\", \"police\", \"sex\", \"first\", \"british\", \"terrorist\", \"hit\", \"dead\", \"live\", \"last\", \"spy\", \"earth\", \"mission\", \"king\", \"early\", \"girl\", \"piracy\", \"suck\", \"anti\", \"cam\", \"gunman\", \"mormon\", \"group\", \"pound\", \"article\", \"hubbard\", \"leave\", \"route\", \"aid\", \"genealogy\", \"saint\", \"latter\", \"baptize\", \"softball\", \"soul\", \"database\", \"name\", \"deadly\", \"way\", \"civilian\", \"begin\", \"least\", \"shoe\", \"sex\", \"look\", \"month\", \"police\", \"terrorist\", \"people\", \"day\", \"arrest\", \"indian\", \"crime\", \"doctor\", \"meet\", \"commit\", \"police\", \"suspect\", \"consider\", \"victim\", \"plot\", \"reporter\", \"german\", \"suspicion\", \"accuse\", \"official\", \"opposition\", \"pirate\", \"mumbai\", \"anti\", \"wed\", \"sexual\", \"digit\", \"year_old\", \"sex\", \"damian\", \"airport\", \"student\", \"draconian\", \"initially\", \"investigate\", \"green\", \"double\", \"terror\", \"terrorist\", \"iraqi\", \"british\", \"stop\", \"city\", \"people\", \"former\", \"life\", \"jail\", \"blow\", \"confirm\", \"film\", \"energy\", \"drink\", \"patient\", \"nude\", \"gas\", \"beach\", \"repeat\", \"clean\", \"experience\", \"taint\", \"coal\", \"australian\", \"spill\", \"palestinian\", \"way\", \"mother\", \"foil\", \"noteworthy\", \"elsewhere\", \"abuse\", \"focus\", \"ukraine\", \"mindlessly\", \"justifie\", \"lead\", \"sentence\", \"serve\", \"girl\", \"fear\", \"lose\", \"sex\", \"british\", \"power\", \"terrorist\", \"people\", \"make\", \"boy\", \"town\", \"slay\", \"eye\", \"white\", \"schafer\", \"example\", \"radical\", \"store\", \"cult\", \"solar\", \"half\", \"birthday\", \"card\", \"powered\", \"pancake\", \"potato\", \"issue\", \"consumer\", \"earthquake\", \"muslim\", \"harder\", \"cringe\", \"friendship\", \"hotel\", \"ask\", \"safe\", \"commodity\", \"black\", \"news\", \"day\", \"burn\", \"family\", \"police\", \"right\", \"order\", \"come\", \"terrorist\", \"rule\", \"hand\", \"crisis\", \"hour\", \"reject\", \"pass\", \"plunge\", \"resolution\", \"cease_fire\", \"likely\", \"saudi\", \"decade\", \"humanitarian\", \"survive\", \"unfair\", \"unbalanced\", \"spiral\", \"plea\", \"girl\", \"response\", \"bloodstaine\", \"blessing\", \"classified\", \"engineer\", \"campaign\", \"worse\", \"plead\", \"document\", \"lauche\", \"friend\", \"guilty\", \"ginger\", \"goldfish\", \"interest\", \"truce\", \"show\", \"ago\", \"riot\", \"bombing\", \"day\", \"leave\", \"peace\", \"press\", \"expose\", \"conference\", \"source\", \"consulate\", \"throat\", \"twitter\", \"deep\", \"era\", \"journalist\", \"reveal\", \"retire\", \"table\", \"feel\", \"kidnap\", \"general\", \"scandal\", \"original\", \"ready\", \"gun\", \"miss\", \"publish\", \"letter\", \"org\", \"activity\", \"organization\", \"fraud\", \"deal\", \"swe\", \"penis\", \"former\", \"throw\", \"official\", \"die\", \"pakistani\", \"iraqi\", \"police\"], \"Total\": [3370.0, 2369.0, 2242.0, 1922.0, 1862.0, 1950.0, 2007.0, 1999.0, 1554.0, 1506.0, 1393.0, 1484.0, 1232.0, 1131.0, 1303.0, 1184.0, 1268.0, 1013.0, 1098.0, 731.0, 1125.0, 910.0, 706.0, 850.0, 939.0, 919.0, 853.0, 679.0, 834.0, 553.0, 1268.0865478515625, 919.0990600585938, 834.5780029296875, 771.7217407226562, 684.2021484375, 653.3140258789062, 597.0297241210938, 570.397216796875, 354.994384765625, 229.06048583984375, 99.91654205322266, 90.27165985107422, 21.25700569152832, 2.722191572189331, 2.7227396965026855, 2.7218520641326904, 2.7221903800964355, 2.7222702503204346, 2.7219767570495605, 2.7224254608154297, 2.7220609188079834, 2.723870277404785, 2.722224712371826, 2.721940755844116, 2.7218856811523438, 2.7219088077545166, 2.7223305702209473, 2.7219932079315186, 2.722533702850342, 2.722529172897339, 2.7238290309906006, 2.722438335418701, 2.723672389984131, 2.7230968475341797, 2.7233128547668457, 2.722500801086426, 1484.6851806640625, 1125.571533203125, 664.028564453125, 531.1019287109375, 501.27740478515625, 442.9152526855469, 377.3753967285156, 302.48065185546875, 235.46022033691406, 231.5273895263672, 207.27464294433594, 140.41241455078125, 107.37598419189453, 64.23157501220703, 46.82332992553711, 31.092283248901367, 2.7219831943511963, 2.7220664024353027, 2.7227907180786133, 2.7218663692474365, 2.722114086151123, 2.7218501567840576, 2.7220754623413086, 2.721989154815674, 2.7225701808929443, 2.7229182720184326, 2.7225613594055176, 2.721942901611328, 2.7220449447631836, 2.7224209308624268, 2.7223565578460693, 2.7223856449127197, 2.7238290309906006, 2.7230968475341797, 2.7233128547668457, 2.723870277404785, 2.723672389984131, 1303.7059326171875, 686.9498291015625, 614.6085205078125, 593.7402954101562, 432.556884765625, 404.83734130859375, 389.1809387207031, 338.4083557128906, 324.58270263671875, 293.47100830078125, 271.0046691894531, 259.9490661621094, 247.46058654785156, 175.27883911132812, 118.17388153076172, 35.72188186645508, 10.058307647705078, 2.7229182720184326, 2.722822427749634, 2.722979784011841, 2.7225124835968018, 2.7219090461730957, 2.7221579551696777, 2.721832036972046, 2.722170829772949, 2.721891403198242, 2.7218804359436035, 2.722250461578369, 2.7218737602233887, 2.721975803375244, 2.7221035957336426, 2.723672389984131, 2.723870277404785, 2.7238290309906006, 2.7230968475341797, 1999.4332275390625, 853.1201171875, 584.8717651367188, 561.0162353515625, 426.85791015625, 398.6618957519531, 393.1753845214844, 228.9910430908203, 228.2172088623047, 188.31231689453125, 154.91427612304688, 134.41981506347656, 94.8575668334961, 2.7238290309906006, 2.7221579551696777, 2.722252130508423, 2.721912145614624, 2.721914291381836, 2.7223405838012695, 2.721811056137085, 2.7218618392944336, 2.7219207286834717, 2.721796751022339, 2.7217910289764404, 2.722248077392578, 2.7218096256256104, 2.7218310832977295, 2.721879482269287, 2.72184681892395, 2.7219576835632324, 2.722350835800171, 2.723870277404785, 2.7233128547668457, 2.722168207168579, 2.7225701808929443, 2.7227907180786133, 2.7230968475341797, 2.722979784011841, 2.722475051879883, 2.7229604721069336, 2.7225351333618164, 3370.630615234375, 1098.072021484375, 661.542236328125, 243.74147033691406, 2.7225613594055176, 2.7223305702209473, 2.7219364643096924, 2.7219135761260986, 2.721978187561035, 2.722496509552002, 2.7225401401519775, 2.722381114959717, 2.722533702850342, 2.7218942642211914, 2.721890926361084, 2.72218918800354, 2.7220358848571777, 2.7218246459960938, 2.7221665382385254, 2.7222471237182617, 2.722276449203491, 2.722248077392578, 2.7218017578125, 2.7223315238952637, 2.7221879959106445, 2.7218079566955566, 2.7219083309173584, 2.721766710281372, 2.721766710281372, 2.721802234649658, 2.7222843170166016, 2.722438335418701, 2.7233128547668457, 2.722224712371826, 2.7225701808929443, 2.723870277404785, 2.722500801086426, 2.723672389984131, 2.7238290309906006, 2007.3262939453125, 1184.0870361328125, 939.846435546875, 517.2486572265625, 420.28094482421875, 246.52471923828125, 229.0508575439453, 89.93488311767578, 56.2237548828125, 43.36675262451172, 35.818939208984375, 2.7238290309906006, 2.7223405838012695, 2.7220237255096436, 2.722038507461548, 2.722283363342285, 2.721825122833252, 2.7219245433807373, 2.7227907180786133, 2.7219436168670654, 2.721794843673706, 2.7221879959106445, 2.722041130065918, 2.7222673892974854, 2.7219245433807373, 2.7218334674835205, 2.7219066619873047, 2.7217774391174316, 2.7217774391174316, 2.7217793464660645, 2.7224209308624268, 2.722062826156616, 2.722458839416504, 2.7229604721069336, 2.722500801086426, 2.723672389984131, 2.723870277404785, 2.7230968475341797, 1506.8037109375, 666.59228515625, 565.8602294921875, 565.4276733398438, 485.33270263671875, 363.8883361816406, 264.6047058105469, 158.8409881591797, 154.1804962158203, 100.574462890625, 74.14392852783203, 63.17183303833008, 2.7225136756896973, 2.7223124504089355, 2.722475051879883, 2.722115993499756, 2.7222163677215576, 2.7222471237182617, 2.722170829772949, 2.7224748134613037, 2.7219088077545166, 2.7218966484069824, 2.7219631671905518, 2.7222728729248047, 2.72204852104187, 2.721954345703125, 2.7219088077545166, 2.722276449203491, 2.7219088077545166, 2.7218916416168213, 2.723672389984131, 2.722458839416504, 2.7238290309906006, 2.7233128547668457, 2.7230968475341797, 2.723870277404785, 2.7229604721069336, 1950.2249755859375, 337.69610595703125, 315.9447326660156, 315.357177734375, 310.9130554199219, 285.3014831542969, 265.70513916015625, 227.90904235839844, 202.65452575683594, 139.19613647460938, 107.3127212524414, 2.722496509552002, 2.721966505050659, 2.7225136756896973, 2.722017526626587, 2.7218024730682373, 2.721874237060547, 2.722041606903076, 2.7218172550201416, 2.7219693660736084, 2.721806049346924, 2.7218141555786133, 2.721937656402588, 2.7218799591064453, 2.721764087677002, 2.721773386001587, 2.721954345703125, 2.7218177318573, 2.7238290309906006, 2.721914529800415, 2.7227907180786133, 2.7224209308624268, 2.722475051879883, 2.7222037315368652, 2.7230968475341797, 2.7221665382385254, 2.7233128547668457, 2.722463846206665, 2.723870277404785, 2.7229604721069336, 1393.320068359375, 621.7225341796875, 516.997802734375, 438.119140625, 281.47357177734375, 217.1192626953125, 213.3969268798828, 212.78726196289062, 206.9487762451172, 171.29127502441406, 145.403076171875, 144.25701904296875, 70.44580078125, 27.05792808532715, 21.864391326904297, 2.7221055030822754, 2.722350835800171, 2.7223856449127197, 2.722440004348755, 2.7230968475341797, 2.7220380306243896, 2.721858263015747, 2.7219324111938477, 2.7218713760375977, 2.7220561504364014, 2.7227907180786133, 2.721940279006958, 2.721855401992798, 2.722283363342285, 2.721774101257324, 2.7221460342407227, 2.7229604721069336, 2.7233128547668457, 2.723672389984131, 2.7225124835968018, 2.7225613594055176, 2.723870277404785, 2.7225351333618164, 2242.9775390625, 850.3154296875, 580.5238647460938, 246.30372619628906, 114.30415344238281, 92.45468139648438, 2.7227396965026855, 2.7222843170166016, 2.7229604721069336, 2.7218947410583496, 2.722055673599243, 2.72206974029541, 2.7218751907348633, 2.721928596496582, 2.722111701965332, 2.7219467163085938, 2.7219135761260986, 2.7219364643096924, 2.721978187561035, 2.722144365310669, 2.72184681892395, 2.7220101356506348, 2.722115993499756, 2.7219841480255127, 2.722407102584839, 2.7219839096069336, 2.722533702850342, 2.7218899726867676, 2.721881151199341, 2.7217812538146973, 2.7222249507904053, 2.7221996784210205, 2.722329616546631, 2.723672389984131, 2.722250461578369, 2.7233128547668457, 2.722979784011841, 2.723870277404785, 2.722529172897339, 2.7238290309906006, 2.722424268722534, 2369.295166015625, 1131.163330078125, 626.8297119140625, 98.78868103027344, 2.723724126815796, 2.7235300540924072, 2.7233405113220215, 2.723471164703369, 2.723672389984131, 2.722440004348755, 2.722093105316162, 2.722276449203491, 2.723870277404785, 2.722083330154419, 2.722167730331421, 2.721801996231079, 2.7218892574310303, 2.7222938537597656, 2.721946954727173, 2.7220423221588135, 2.7218778133392334, 2.721869468688965, 2.7219886779785156, 2.722013473510742, 2.7218992710113525, 2.722426414489746, 2.72188401222229, 2.722285270690918, 2.7219839096069336, 2.722245454788208, 2.722438335418701, 2.7223007678985596, 2.7229604721069336, 2.722458839416504, 2.7238290309906006, 2.7227396965026855, 1232.565673828125, 1013.107177734375, 910.079345703125, 378.70025634765625, 124.5745620727539, 73.26564025878906, 60.38699722290039, 30.44200325012207, 21.5430850982666, 2.723724126815796, 2.7235300540924072, 2.723471164703369, 2.7233405113220215, 2.7222037315368652, 2.7220511436462402, 2.721951961517334, 2.7218074798583984, 2.721855401992798, 2.7219386100769043, 2.7223565578460693, 2.721897840499878, 2.7219128608703613, 2.7225546836853027, 2.721923351287842, 2.7218494415283203, 2.7218105792999268, 2.7218477725982666, 2.722475051879883, 2.7222676277160645, 2.7217650413513184, 2.7230968475341797, 2.7238290309906006, 2.7224748134613037, 2.7233128547668457, 2.723870277404785, 2.7225701808929443, 1922.474853515625, 1862.9906005859375, 2.7227349281311035, 2.72212290763855, 2.7222938537597656, 2.7221996784210205, 2.722496509552002, 2.722425937652588, 2.7238290309906006, 2.7219924926757812, 2.7221832275390625, 2.721971035003662, 2.7220101356506348, 2.7217798233032227, 2.7221248149871826, 2.721914768218994, 2.7233128547668457, 2.721985340118408, 2.721804618835449, 2.7218689918518066, 2.7218270301818848, 2.7219738960266113, 2.721829414367676, 2.7218217849731445, 2.722202777862549, 2.72186017036438, 2.722438335418701, 2.7229604721069336, 2.722041606903076, 2.7219667434692383, 2.7223007678985596, 2.722411632537842, 2.7227396965026855, 2.723870277404785, 2.723672389984131, 2.7225546836853027, 2.7230968475341797, 2.7225351333618164, 1554.676025390625, 374.8641357421875, 341.418701171875, 311.57861328125, 299.5465087890625, 134.1753387451172, 120.9522476196289, 2.7233405113220215, 2.723471164703369, 2.7235300540924072, 2.723724126815796, 2.7233128547668457, 2.722100257873535, 2.721942901611328, 2.72183895111084, 2.7218422889709473, 2.721954345703125, 2.721980333328247, 2.7222249507904053, 2.721954107284546, 2.7218523025512695, 2.72196888923645, 2.72189998626709, 2.7221035957336426, 2.722425937652588, 2.7218000888824463, 2.72186279296875, 2.7220537662506104, 2.722043991088867, 2.7222037315368652, 2.722100019454956, 2.7222883701324463, 2.722529172897339, 2.7225546836853027, 2.722424268722534, 2.723870277404785, 2.722411632537842, 2.7227907180786133, 2.7225351333618164, 2.723672389984131, 679.4564819335938, 608.7965087890625, 489.2534484863281, 333.56494140625, 330.38421630859375, 147.5886688232422, 107.55106353759766, 64.36656188964844, 54.243648529052734, 2.7225546836853027, 2.721952199935913, 2.7218916416168213, 2.722076892852783, 2.721813440322876, 2.722014904022217, 2.7217674255371094, 2.7222280502319336, 2.7219767570495605, 2.7222280502319336, 2.7217555046081543, 2.722381114959717, 2.7217772006988525, 2.7219700813293457, 2.721749782562256, 2.721749782562256, 2.721749782562256, 2.721754312515259, 2.7217600345611572, 2.7217600345611572, 2.7217886447906494, 2.722052812576294, 2.7219886779785156, 2.722463846206665, 2.7222938537597656, 2.722250461578369, 2.7221832275390625, 2.7222676277160645, 2.722411632537842, 2.722475051879883, 2.722285270690918, 2.723870277404785, 2.723672389984131, 2.7238290309906006, 2.7229604721069336, 706.9569091796875, 553.2385864257812, 193.16856384277344, 147.35595703125, 92.36812591552734, 67.20484161376953, 2.723870277404785, 2.7223007678985596, 2.722114086151123, 2.722130537033081, 2.722100257873535, 2.7219440937042236, 2.7221035957336426, 2.7217886447906494, 2.7220489978790283, 2.7225613594055176, 2.7218384742736816, 2.7225124835968018, 2.722093105316162, 2.722076892852783, 2.721745252609253, 2.7218806743621826, 2.721743106842041, 2.721827268600464, 2.722411632537842, 2.721755027770996, 2.7219340801239014, 2.7219648361206055, 2.721768856048584, 2.721736192703247, 2.7217812538146973, 2.721872091293335, 2.721869945526123, 2.722440004348755, 2.723672389984131, 2.7223305702209473, 2.7225351333618164, 2.722458839416504, 2.722426414489746, 2.7238290309906006, 2.7225401401519775, 364.1153564453125, 295.26385498046875, 135.0994873046875, 96.78606414794922, 87.46096801757812, 79.47774505615234, 43.6348876953125, 26.21442413330078, 24.641849517822266, 2.7220358848571777, 2.721816062927246, 2.7218899726867676, 2.7218375205993652, 2.721816062927246, 2.721761465072632, 2.7218549251556396, 2.7219314575195312, 2.721815586090088, 2.7227396965026855, 2.722463846206665, 2.72194766998291, 2.7217776775360107, 2.7217729091644287, 2.7217729091644287, 2.722115993499756, 2.721888303756714, 2.721785545349121, 2.721827745437622, 2.721830129623413, 2.7221426963806152, 2.7221879959106445, 2.7219605445861816, 2.7225546836853027, 2.72200083732605, 2.722195625305176, 2.722411632537842, 2.7225351333618164, 2.7221693992614746, 2.723672389984131, 2.7238290309906006, 731.5676879882812, 243.5263671875, 77.25086975097656, 19.061620712280273, 2.722496509552002, 2.722095489501953, 2.721749782562256, 2.7217507362365723, 2.721768856048584, 2.721900701522827, 2.7218573093414307, 2.721802234649658, 2.7219207286834717, 2.721747875213623, 2.721951961517334, 2.721740245819092, 2.721740245819092, 2.721740245819092, 2.7219715118408203, 2.7217836380004883, 2.7217841148376465, 2.721954345703125, 2.7218031883239746, 2.721769332885742, 2.721769332885742, 2.7219552993774414, 2.722090721130371, 2.7218070030212402, 2.7217354774475098, 2.722036123275757, 2.7225136756896973, 2.7229604721069336, 2.722088098526001, 2.7224748134613037, 2.723870277404785, 2.722125291824341, 2.722252130508423, 2.722500801086426, 2.723672389984131, 2.7223565578460693, 2.722202777862549, 299.7565002441406, 190.7235870361328, 185.17510986328125, 88.31864166259766, 25.331647872924805, 4.09530782699585, 2.7217867374420166, 2.721904993057251, 2.7222037315368652, 2.721919298171997, 2.721827268600464, 2.7218785285949707, 2.7217466831207275, 2.7217485904693604, 2.721742630004883, 2.7218711376190186, 2.7225546836853027, 2.7220091819763184, 2.721768856048584, 2.721768856048584, 2.7217700481414795, 2.7217729091644287, 2.7219457626342773, 2.7217354774475098, 2.7217917442321777, 2.7218031883239746, 2.721733808517456, 2.721792697906494, 2.721859931945801, 2.7217562198638916, 2.7217562198638916, 2.7219226360321045, 2.7218778133392334, 2.7222883701324463, 2.7219295501708984, 2.722424268722534, 2.722822427749634, 2.7229604721069336, 2.722381114959717, 2.7220730781555176, 40.01704788208008, 39.37355041503906, 2.721860885620117, 2.7217719554901123, 2.721756935119629, 2.7217276096343994, 2.7217864990234375, 2.7217843532562256, 2.721787929534912, 2.72218918800354, 2.721851110458374, 2.7217273712158203, 2.721730947494507, 2.7218880653381348, 2.7218077182769775, 2.721813440322876, 2.7219738960266113, 2.7217302322387695, 2.7219245433807373, 2.7219619750976562, 2.7219841480255127, 2.721801519393921, 2.7218034267425537, 2.7218177318573, 2.72182297706604, 2.721824884414673, 2.7218613624572754, 2.7220444679260254, 2.721754789352417, 2.721754789352417, 2.7225401401519775, 2.7221460342407227, 2.7225613594055176, 2.722407102584839, 2.722224712371826, 2.7223305702209473, 2.723870277404785], \"loglift\": [30.0, 29.0, 28.0, 27.0, 26.0, 25.0, 24.0, 23.0, 22.0, 21.0, 20.0, 19.0, 18.0, 17.0, 16.0, 15.0, 14.0, 13.0, 12.0, 11.0, 10.0, 9.0, 8.0, 7.0, 6.0, 5.0, 4.0, 3.0, 2.0, 1.0, 2.470900058746338, 2.4702000617980957, 2.469899892807007, 2.469599962234497, 2.4691998958587646, 2.4690001010894775, 2.4686999320983887, 2.4684998989105225, 2.4656999111175537, 2.4618000984191895, 2.447200059890747, 2.4444000720977783, 2.3457999229431152, -0.22370000183582306, -0.2240000069141388, -0.2240999937057495, -0.22419999539852142, -0.22419999539852142, -0.22419999539852142, -0.22419999539852142, -0.22419999539852142, -0.22419999539852142, -0.22429999709129333, -0.22429999709129333, -0.22429999709129333, -0.22429999709129333, -0.22429999709129333, -0.22429999709129333, -0.22429999709129333, -0.22429999709129333, -0.22429999709129333, -0.22429999709129333, -0.22439999878406525, -0.22439999878406525, -0.22450000047683716, -0.22439999878406525, 2.5422000885009766, 2.5416998863220215, 2.54010009765625, 2.539099931716919, 2.538800001144409, 2.5381999015808105, 2.5371999740600586, 2.5355000495910645, 2.533099889755249, 2.532900094985962, 2.531599998474121, 2.525700092315674, 2.5199999809265137, 2.5035998821258545, 2.4881999492645264, 2.458699941635132, -0.15710000693798065, -0.15729999542236328, -0.1573999971151352, -0.1573999971151352, -0.1573999971151352, -0.1573999971151352, -0.1574999988079071, -0.1574999988079071, -0.1574999988079071, -0.1574999988079071, -0.1574999988079071, -0.1574999988079071, -0.1574999988079071, -0.1574999988079071, -0.15760000050067902, -0.15760000050067902, -0.15790000557899475, -0.15780000388622284, -0.15780000388622284, -0.15809999406337738, -0.15800000727176666, 2.5803000926971436, 2.5785000324249268, 2.5780999660491943, 2.578000068664551, 2.5762999057769775, 2.575900077819824, 2.575700044631958, 2.574700117111206, 2.5743000507354736, 2.573499917984009, 2.5727999210357666, 2.5724000930786133, 2.571899890899658, 2.567500114440918, 2.56030011177063, 2.507699966430664, 2.2873001098632812, -0.2953000068664551, -0.2955999970436096, -0.2955999970436096, -0.29910001158714294, -0.2992999851703644, -0.2994999885559082, -0.2994999885559082, -0.2996000051498413, -0.2996000051498413, -0.2996000051498413, -0.2996000051498413, -0.2996000051498413, -0.2996000051498413, -0.2996000051498413, -0.29980000853538513, -0.29989999532699585, -0.29989999532699585, -0.29980000853538513, 2.600399971008301, 2.5987000465393066, 2.5973000526428223, 2.597100019454956, 2.5957000255584717, 2.5952000617980957, 2.595099925994873, 2.590399980545044, 2.590399980545044, 2.5880000591278076, 2.5850000381469727, 2.58240008354187, 2.5743000507354736, -0.2273000031709671, -0.227400004863739, -0.227400004863739, -0.227400004863739, -0.22750000655651093, -0.22750000655651093, -0.22750000655651093, -0.22759999334812164, -0.22759999334812164, -0.22759999334812164, -0.22759999334812164, -0.22759999334812164, -0.22759999334812164, -0.22759999334812164, -0.22759999334812164, -0.22759999334812164, -0.22759999334812164, -0.22759999334812164, -0.22769999504089355, -0.22769999504089355, -0.22759999334812164, -0.22769999504089355, -0.22769999504089355, -0.22779999673366547, -0.22779999673366547, -0.22769999504089355, -0.22779999673366547, -0.22779999673366547, 2.6810998916625977, 2.679500102996826, 2.677999973297119, 2.6714000701904297, -0.015599999576807022, -0.015599999576807022, -0.015699999406933784, -0.015699999406933784, -0.015699999406933784, -0.015799999237060547, -0.015799999237060547, -0.015799999237060547, -0.01590000092983246, -0.01590000092983246, -0.01590000092983246, -0.01590000092983246, -0.01590000092983246, -0.01590000092983246, -0.01590000092983246, -0.01600000075995922, -0.01600000075995922, -0.01600000075995922, -0.01600000075995922, -0.01600000075995922, -0.01600000075995922, -0.01600000075995922, -0.01600000075995922, -0.01600000075995922, -0.01600000075995922, -0.01600000075995922, -0.01600000075995922, -0.01600000075995922, -0.016100000590085983, -0.01600000075995922, -0.016100000590085983, -0.016200000420212746, -0.016100000590085983, -0.016499999910593033, -0.016599999740719795, 2.6826999187469482, 2.68179988861084, 2.6812000274658203, 2.678999900817871, 2.677799940109253, 2.6733999252319336, 2.672600030899048, 2.654900074005127, 2.6370999813079834, 2.6226999759674072, 2.609299898147583, -0.23929999768733978, -0.2395000010728836, -0.2395000010728836, -0.23960000276565552, -0.23970000445842743, -0.23970000445842743, -0.23970000445842743, -0.23970000445842743, -0.23970000445842743, -0.23970000445842743, -0.23980000615119934, -0.23980000615119934, -0.23980000615119934, -0.23980000615119934, -0.23980000615119934, -0.23980000615119934, -0.23980000615119934, -0.23980000615119934, -0.23980000615119934, -0.23980000615119934, -0.23980000615119934, -0.23980000615119934, -0.23989999294281006, -0.23989999294281006, -0.24009999632835388, -0.2401999980211258, -0.24009999632835388, 2.7715001106262207, 2.769399881362915, 2.768699884414673, 2.768699884414673, 2.767899990081787, 2.7660999298095703, 2.7634999752044678, 2.756999969482422, 2.756500005722046, 2.7474000453948975, 2.738100051879883, 2.7318999767303467, -0.03909999877214432, -0.03929999843239784, -0.039500001817941666, -0.03959999978542328, -0.039799999445676804, -0.039799999445676804, -0.039799999445676804, -0.039799999445676804, -0.039799999445676804, -0.039799999445676804, -0.039799999445676804, -0.039799999445676804, -0.039799999445676804, -0.039900001138448715, -0.039900001138448715, -0.039900001138448715, -0.039900001138448715, -0.039900001138448715, -0.04010000079870224, -0.03999999910593033, -0.04010000079870224, -0.04010000079870224, -0.03999999910593033, -0.04039999842643738, -0.04010000079870224, 2.8115999698638916, 2.805299997329712, 2.804800033569336, 2.804800033569336, 2.8046998977661133, 2.8039000034332275, 2.803299903869629, 2.8017001152038574, 2.800299882888794, 2.7945001125335693, 2.7890000343322754, 0.13490000367164612, 0.1347000002861023, 0.1347000002861023, 0.1347000002861023, 0.1347000002861023, 0.1347000002861023, 0.13459999859333038, 0.13459999859333038, 0.13459999859333038, 0.13459999859333038, 0.13459999859333038, 0.13459999859333038, 0.13459999859333038, 0.13459999859333038, 0.13459999859333038, 0.13459999859333038, 0.13459999859333038, 0.13459999859333038, 0.13459999859333038, 0.13459999859333038, 0.13459999859333038, 0.13449999690055847, 0.13459999859333038, 0.13439999520778656, 0.13449999690055847, 0.13429999351501465, 0.13439999520778656, 0.1340000033378601, 0.13429999351501465, 2.8301000595092773, 2.827899932861328, 2.8269999027252197, 2.8261001110076904, 2.8227999210357666, 2.8201000690460205, 2.8199000358581543, 2.8199000358581543, 2.819499969482422, 2.8169000148773193, 2.814199924468994, 2.813999891281128, 2.7948999404907227, 2.732300043106079, 2.7070999145507812, -0.03139999881386757, -0.03150000050663948, -0.031599998474121094, -0.031599998474121094, -0.031599998474121094, -0.031599998474121094, -0.031599998474121094, -0.031599998474121094, -0.031700000166893005, -0.031700000166893005, -0.031700000166893005, -0.031700000166893005, -0.031700000166893005, -0.031700000166893005, -0.031700000166893005, -0.031700000166893005, -0.03180000185966492, -0.03180000185966492, -0.03189999982714653, -0.03180000185966492, -0.03180000185966492, -0.03220000118017197, -0.03180000185966492, 2.980600118637085, 2.9786999225616455, 2.977299928665161, 2.971100091934204, 2.9588000774383545, 2.953200101852417, -0.11509999632835388, -0.11569999903440475, -0.11580000072717667, -0.11590000241994858, -0.11590000241994858, -0.11599999666213989, -0.1160999983549118, -0.1160999983549118, -0.1160999983549118, -0.1160999983549118, -0.1160999983549118, -0.1160999983549118, -0.1160999983549118, -0.1160999983549118, -0.1160999983549118, -0.1160999983549118, -0.1160999983549118, -0.1160999983549118, -0.11620000004768372, -0.11620000004768372, -0.11620000004768372, -0.11620000004768372, -0.11620000004768372, -0.11620000004768372, -0.11620000004768372, -0.11620000004768372, -0.11620000004768372, -0.11640000343322754, -0.11620000004768372, -0.11649999767541885, -0.11640000343322754, -0.11670000106096268, -0.11630000174045563, -0.11680000275373459, -0.11630000174045563, 2.9807000160217285, 2.9795000553131104, 2.9776999950408936, 2.9551000595092773, -0.19789999723434448, -0.1979999989271164, -0.19820000231266022, -0.19820000231266022, -0.19859999418258667, -0.19990000128746033, -0.20000000298023224, -0.20020000636577606, -0.20020000636577606, -0.20029999315738678, -0.20029999315738678, -0.2003999948501587, -0.2004999965429306, -0.2004999965429306, -0.2004999965429306, -0.2004999965429306, -0.2004999965429306, -0.2004999965429306, -0.2004999965429306, -0.2004999965429306, -0.2004999965429306, -0.20059999823570251, -0.20059999823570251, -0.20059999823570251, -0.20059999823570251, -0.20059999823570251, -0.20059999823570251, -0.20059999823570251, -0.20080000162124634, -0.20069999992847443, -0.20100000500679016, -0.20080000162124634, 3.015199899673462, 3.014699935913086, 3.014400005340576, 3.0104000568389893, 2.996299982070923, 2.981300115585327, 2.973400115966797, 2.9284000396728516, 2.88919997215271, -0.002099999925121665, -0.002099999925121665, -0.002199999988079071, -0.002300000051036477, -0.005200000014156103, -0.005200000014156103, -0.0052999998442828655, -0.0052999998442828655, -0.0052999998442828655, -0.005400000140070915, -0.005400000140070915, -0.005400000140070915, -0.005400000140070915, -0.005400000140070915, -0.005400000140070915, -0.005400000140070915, -0.005400000140070915, -0.005499999970197678, -0.005499999970197678, -0.005499999970197678, -0.005499999970197678, -0.00559999980032444, -0.00570000009611249, -0.005499999970197678, -0.00570000009611249, -0.005900000222027302, -0.00559999980032444, 3.0272998809814453, 3.0271999835968018, -0.002199999988079071, -0.0071000000461936, -0.007300000172108412, -0.007300000172108412, -0.007300000172108412, -0.007300000172108412, -0.007300000172108412, -0.007400000002235174, -0.007400000002235174, -0.007400000002235174, -0.007400000002235174, -0.007499999832361937, -0.007499999832361937, -0.007499999832361937, -0.007499999832361937, -0.007499999832361937, -0.007499999832361937, -0.007600000128149986, -0.007600000128149986, -0.007600000128149986, -0.007600000128149986, -0.007600000128149986, -0.007600000128149986, -0.007600000128149986, -0.007600000128149986, -0.007600000128149986, -0.007600000128149986, -0.007699999958276749, -0.007699999958276749, -0.007699999958276749, -0.007699999958276749, -0.007799999788403511, -0.007899999618530273, -0.007699999958276749, -0.007899999618530273, -0.007799999788403511, 3.174099922180176, 3.168800115585327, 3.1682000160217285, 3.1673998832702637, 3.167099952697754, 3.1563000679016113, 3.154099941253662, 0.1103999987244606, 0.1103999987244606, 0.1103999987244606, 0.11029999703168869, 0.10729999840259552, 0.10700000077486038, 0.10700000077486038, 0.10689999908208847, 0.10689999908208847, 0.10689999908208847, 0.10689999908208847, 0.10689999908208847, 0.10689999908208847, 0.10689999908208847, 0.10689999908208847, 0.10689999908208847, 0.10689999908208847, 0.10689999908208847, 0.10679999738931656, 0.10679999738931656, 0.10679999738931656, 0.10679999738931656, 0.10679999738931656, 0.10679999738931656, 0.10679999738931656, 0.10679999738931656, 0.10670000314712524, 0.10679999738931656, 0.10639999806880951, 0.10679999738931656, 0.10660000145435333, 0.10670000314712524, 0.1062999963760376, 3.1807000637054443, 3.1802000999450684, 3.1791999340057373, 3.1767001152038574, 3.1767001152038574, 3.1668999195098877, 3.1603000164031982, 3.1438000202178955, 3.135999917984009, 0.31130000948905945, 0.31130000948905945, 0.31130000948905945, 0.31119999289512634, 0.31119999289512634, 0.31119999289512634, 0.3111000061035156, 0.3111000061035156, 0.3111000061035156, 0.3111000061035156, 0.3111000061035156, 0.3111000061035156, 0.3111000061035156, 0.3111000061035156, 0.3111000061035156, 0.3111000061035156, 0.3111000061035156, 0.3111000061035156, 0.3111000061035156, 0.3111000061035156, 0.3111000061035156, 0.3111000061035156, 0.3111000061035156, 0.3109999895095825, 0.3109999895095825, 0.3109999895095825, 0.3109999895095825, 0.3109999895095825, 0.3109999895095825, 0.3109999895095825, 0.3109999895095825, 0.310699999332428, 0.31060001254081726, 0.31049999594688416, 0.3107999861240387, 3.6106998920440674, 3.6096999645233154, 3.600800037384033, 3.5964999198913574, 3.585700035095215, 3.574700117111206, 0.37720000743865967, 0.37700000405311584, 0.376800000667572, 0.3767000138759613, 0.3767000138759613, 0.3765999972820282, 0.3765999972820282, 0.3765999972820282, 0.3765999972820282, 0.3765999972820282, 0.3765999972820282, 0.3765999972820282, 0.3765000104904175, 0.3765000104904175, 0.3765000104904175, 0.3765000104904175, 0.3765000104904175, 0.3765000104904175, 0.3765000104904175, 0.3765000104904175, 0.3765000104904175, 0.3765000104904175, 0.3765000104904175, 0.3765000104904175, 0.3765000104904175, 0.3765000104904175, 0.3765000104904175, 0.3763999938964844, 0.37630000710487366, 0.3763999938964844, 0.3763999938964844, 0.3763999938964844, 0.37630000710487366, 0.375900000333786, 0.37630000710487366, 3.8638999462127686, 3.8622000217437744, 3.851599931716919, 3.8436999320983887, 3.8406999111175537, 3.837599992752075, 3.809299945831299, 3.765899896621704, 3.7588000297546387, 0.6021999716758728, 0.6021000146865845, 0.6021000146865845, 0.6019999980926514, 0.6019999980926514, 0.6019999980926514, 0.6019999980926514, 0.6019999980926514, 0.6019999980926514, 0.6019999980926514, 0.6018999814987183, 0.6018999814987183, 0.6018999814987183, 0.6018999814987183, 0.6018999814987183, 0.6018999814987183, 0.6018999814987183, 0.6018999814987183, 0.6018999814987183, 0.6018999814987183, 0.6018999814987183, 0.6018999814987183, 0.6018999814987183, 0.6018999814987183, 0.6018999814987183, 0.6018999814987183, 0.6018000245094299, 0.6018000245094299, 0.6018999814987183, 0.6014000177383423, 0.6013000011444092, 3.879199981689453, 3.871999979019165, 3.848299980163574, 3.735300064086914, 0.6518999934196472, 0.6514999866485596, 0.6513000130653381, 0.6513000130653381, 0.651199996471405, 0.651199996471405, 0.651199996471405, 0.651199996471405, 0.651199996471405, 0.651199996471405, 0.651199996471405, 0.651199996471405, 0.651199996471405, 0.651199996471405, 0.651199996471405, 0.651199996471405, 0.651199996471405, 0.651199996471405, 0.651199996471405, 0.651199996471405, 0.651199996471405, 0.651199996471405, 0.651199996471405, 0.651199996471405, 0.651199996471405, 0.6510999798774719, 0.6510999798774719, 0.6510999798774719, 0.6510999798774719, 0.6510000228881836, 0.6506999731063843, 0.6510999798774719, 0.6510999798774719, 0.6510000228881836, 0.650600016117096, 0.6510000228881836, 0.6510999798774719, 4.193999767303467, 4.188899993896484, 4.188499927520752, 4.172500133514404, 4.092599868774414, 3.165299892425537, 0.6430000066757202, 0.6430000066757202, 0.642799973487854, 0.6427000164985657, 0.6427000164985657, 0.6427000164985657, 0.6427000164985657, 0.6427000164985657, 0.6427000164985657, 0.6427000164985657, 0.6427000164985657, 0.6427000164985657, 0.6425999999046326, 0.6425999999046326, 0.6425999999046326, 0.6425999999046326, 0.6425999999046326, 0.6425999999046326, 0.6425999999046326, 0.6425999999046326, 0.6425999999046326, 0.6425999999046326, 0.6425999999046326, 0.6425999999046326, 0.6425999999046326, 0.6425999999046326, 0.6425999999046326, 0.6424999833106995, 0.6425999999046326, 0.6424000263214111, 0.642300009727478, 0.6421999931335449, 0.6424000263214111, 0.6424999833106995, 5.441999912261963, 5.440800189971924, 1.1226999759674072, 1.1222000122070312, 1.1222000122070312, 1.1222000122070312, 1.1222000122070312, 1.1222000122070312, 1.1222000122070312, 1.1222000122070312, 1.1220999956130981, 1.1220999956130981, 1.1220999956130981, 1.1220999956130981, 1.1220999956130981, 1.1220999956130981, 1.1220999956130981, 1.1220999956130981, 1.1220999956130981, 1.121999979019165, 1.121999979019165, 1.121999979019165, 1.121999979019165, 1.121999979019165, 1.121999979019165, 1.121999979019165, 1.121999979019165, 1.121999979019165, 1.121999979019165, 1.121999979019165, 1.121999979019165, 1.121999979019165, 1.121899962425232, 1.121899962425232, 1.121999979019165, 1.121899962425232, 1.121399998664856], \"logprob\": [30.0, 29.0, 28.0, 27.0, 26.0, 25.0, 24.0, 23.0, 22.0, 21.0, 20.0, 19.0, 18.0, 17.0, 16.0, 15.0, 14.0, 13.0, 12.0, 11.0, 10.0, 9.0, 8.0, 7.0, 6.0, 5.0, 4.0, 3.0, 2.0, 1.0, -1.9615000486373901, -2.28410005569458, -2.3808000087738037, -2.459399938583374, -2.580199956893921, -2.6266000270843506, -2.7170000076293945, -2.7629001140594482, -3.239799976348877, -3.6819000244140625, -4.526100158691406, -4.63040018081665, -6.17519998550415, -10.79990005493164, -10.800000190734863, -10.800399780273438, -10.800399780273438, -10.800299644470215, -10.80049991607666, -10.800299644470215, -10.80049991607666, -10.799799919128418, -10.80049991607666, -10.800600051879883, -10.800600051879883, -10.800600051879883, -10.800399780273438, -10.800600051879883, -10.800399780273438, -10.800399780273438, -10.79990005493164, -10.800399780273438, -10.800100326538086, -10.800299644470215, -10.800299644470215, -10.800399780273438, -1.7324999570846558, -2.0099000930786133, -2.5392000675201416, -2.7636001110076904, -2.821700096130371, -2.9460999965667725, -3.1071999073028564, -3.3301000595092773, -3.5829999446868896, -3.600100040435791, -3.7119998931884766, -4.107399940490723, -4.38129997253418, -4.911600112915039, -5.243100166320801, -5.682000160217285, -10.733400344848633, -10.733599662780762, -10.733400344848633, -10.733699798583984, -10.733699798583984, -10.733799934387207, -10.733699798583984, -10.733799934387207, -10.733599662780762, -10.733400344848633, -10.733599662780762, -10.733799934387207, -10.733799934387207, -10.733699798583984, -10.733699798583984, -10.733699798583984, -10.733499526977539, -10.733599662780762, -10.733599662780762, -10.733699798583984, -10.733699798583984, -1.8243999481201172, -2.4667999744415283, -2.5785999298095703, -2.6131999492645264, -2.9316000938415527, -2.998199939727783, -3.037899971008301, -3.1786999702453613, -3.2207999229431152, -3.3224000930786133, -3.4026999473571777, -3.4447999000549316, -3.494499921798706, -3.8436999320983887, -4.245200157165527, -5.494200229644775, -6.981900215148926, -10.871299743652344, -10.871500015258789, -10.871500015258789, -10.875200271606445, -10.87559986114502, -10.875699996948242, -10.875900268554688, -10.875800132751465, -10.875900268554688, -10.875900268554688, -10.875800132751465, -10.875900268554688, -10.875900268554688, -10.875900268554688, -10.875499725341797, -10.875499725341797, -10.87559986114502, -10.875699996948242, -1.3766000270843506, -2.23009991645813, -2.6089999675750732, -2.6507999897003174, -2.92549991607666, -2.99429988861084, -3.0083000659942627, -3.553499937057495, -3.556999921798706, -3.7516000270843506, -3.9498000144958496, -4.094200134277344, -4.451000213623047, -10.802900314331055, -10.803600311279297, -10.803600311279297, -10.803799629211426, -10.803799629211426, -10.80370044708252, -10.803899765014648, -10.803899765014648, -10.803899765014648, -10.803899765014648, -10.803999900817871, -10.803799629211426, -10.803899765014648, -10.803899765014648, -10.803899765014648, -10.803899765014648, -10.803899765014648, -10.803799629211426, -10.803299903869629, -10.803500175476074, -10.803899765014648, -10.803799629211426, -10.80370044708252, -10.80370044708252, -10.80370044708252, -10.803799629211426, -10.803799629211426, -10.803899765014648, -0.7736999988555908, -1.8968000411987305, -2.405100107192993, -3.4102001190185547, -10.591699600219727, -10.59179973602295, -10.592000007629395, -10.592000007629395, -10.592000007629395, -10.591899871826172, -10.591899871826172, -10.592000007629395, -10.591899871826172, -10.59220027923584, -10.59220027923584, -10.592100143432617, -10.59220027923584, -10.592300415039062, -10.59220027923584, -10.59220027923584, -10.592100143432617, -10.59220027923584, -10.592300415039062, -10.592100143432617, -10.59220027923584, -10.592399597167969, -10.592300415039062, -10.592399597167969, -10.592399597167969, -10.592399597167969, -10.59220027923584, -10.59220027923584, -10.591899871826172, -10.59220027923584, -10.59220027923584, -10.59179973602295, -10.59220027923584, -10.59220027923584, -10.59220027923584, -1.2904000282287598, -1.819200038909912, -2.0506999492645264, -2.6501998901367188, -2.8589000701904297, -3.396699905395508, -3.471100091934204, -4.423699855804443, -4.911300182342529, -5.185200214385986, -5.389800071716309, -10.814900398254395, -10.815600395202637, -10.815799713134766, -10.815899848937988, -10.815799713134766, -10.815999984741211, -10.815999984741211, -10.815699577331543, -10.815999984741211, -10.816100120544434, -10.815999984741211, -10.815999984741211, -10.815899848937988, -10.816100120544434, -10.816100120544434, -10.816100120544434, -10.816100120544434, -10.816100120544434, -10.816100120544434, -10.815899848937988, -10.816100120544434, -10.815899848937988, -10.815799713134766, -10.815999984741211, -10.815799713134766, -10.815799713134766, -10.815999984741211, -1.4883999824523926, -2.3060998916625977, -2.470599889755249, -2.471400022506714, -2.6249001026153564, -2.9147000312805176, -3.2358999252319336, -3.7527999877929688, -3.783099889755249, -4.219299793243408, -4.533599853515625, -4.699900150299072, -10.61520004272461, -10.615500450134277, -10.615599632263184, -10.615900039672852, -10.616000175476074, -10.616000175476074, -10.616000175476074, -10.615900039672852, -10.616100311279297, -10.616100311279297, -10.616100311279297, -10.616000175476074, -10.616100311279297, -10.61620044708252, -10.61620044708252, -10.616100311279297, -10.61620044708252, -10.61620044708252, -10.615699768066406, -10.616100311279297, -10.615699768066406, -10.615900039672852, -10.615900039672852, -10.616000175476074, -10.616100311279297, -1.1904000043869019, -2.950200080871582, -3.0172998905181885, -3.019200086593628, -3.0334999561309814, -3.1201999187469482, -3.191999912261963, -3.3469998836517334, -3.46589994430542, -3.8473000526428223, -4.1128997802734375, -10.441200256347656, -10.44159984588623, -10.441399574279785, -10.44159984588623, -10.441699981689453, -10.441699981689453, -10.44159984588623, -10.441699981689453, -10.441699981689453, -10.441800117492676, -10.441800117492676, -10.441699981689453, -10.441699981689453, -10.441800117492676, -10.441800117492676, -10.441699981689453, -10.441800117492676, -10.440999984741211, -10.441699981689453, -10.441399574279785, -10.44159984588623, -10.44159984588623, -10.44159984588623, -10.441399574279785, -10.441699981689453, -10.441499710083008, -10.441699981689453, -10.44159984588623, -10.441699981689453, -1.5081000328063965, -2.3173000812530518, -2.5025999546051025, -2.6689999103546143, -3.114799976348877, -3.3770999908447266, -3.3945999145507812, -3.3975000381469727, -3.4256999492645264, -3.6173999309539795, -3.7839999198913574, -3.7920000553131104, -4.527900218963623, -5.547299861907959, -5.785699844360352, -10.607600212097168, -10.607600212097168, -10.60770034790039, -10.60770034790039, -10.607500076293945, -10.60789966583252, -10.607999801635742, -10.607999801635742, -10.607999801635742, -10.60789966583252, -10.60770034790039, -10.607999801635742, -10.607999801635742, -10.60789966583252, -10.608099937438965, -10.60789966583252, -10.60770034790039, -10.607600212097168, -10.607600212097168, -10.60789966583252, -10.60789966583252, -10.607799530029297, -10.60789966583252, -0.8815000057220459, -1.8532999753952026, -2.2363998889923096, -3.099900007247925, -3.880000114440918, -4.097700119018555, -10.691100120544434, -10.691900253295898, -10.691699981689453, -10.69219970703125, -10.69219970703125, -10.692299842834473, -10.692399978637695, -10.692399978637695, -10.692299842834473, -10.692399978637695, -10.692399978637695, -10.692399978637695, -10.692399978637695, -10.692299842834473, -10.692500114440918, -10.692399978637695, -10.692399978637695, -10.692399978637695, -10.692299842834473, -10.692500114440918, -10.692299842834473, -10.692500114440918, -10.692500114440918, -10.692500114440918, -10.692399978637695, -10.692399978637695, -10.692399978637695, -10.692000389099121, -10.692399978637695, -10.692299842834473, -10.692299842834473, -10.692299842834473, -10.692399978637695, -10.692399978637695, -10.692399978637695, -0.8266000151634216, -1.5671000480651855, -2.1593000888824463, -4.029600143432617, -10.773500442504883, -10.773699760437012, -10.77400016784668, -10.77400016784668, -10.774299621582031, -10.776000022888184, -10.776300430297852, -10.776300430297852, -10.775799751281738, -10.77649974822998, -10.77649974822998, -10.776800155639648, -10.776800155639648, -10.776700019836426, -10.776800155639648, -10.776800155639648, -10.776900291442871, -10.776900291442871, -10.776800155639648, -10.776800155639648, -10.776900291442871, -10.776700019836426, -10.776900291442871, -10.776700019836426, -10.776900291442871, -10.776800155639648, -10.776800155639648, -10.776800155639648, -10.776700019836426, -10.776800155639648, -10.776599884033203, -10.776800155639648, -1.4456000328063965, -1.642199993133545, -1.7496999502182007, -2.630500078201294, -3.756500005722046, -4.302299976348877, -4.503399848937988, -5.233500003814697, -5.6184000968933105, -10.577699661254883, -10.577799797058105, -10.577899932861328, -10.57800006866455, -10.581399917602539, -10.581500053405762, -10.581600189208984, -10.581700325012207, -10.581700325012207, -10.581700325012207, -10.581500053405762, -10.581700325012207, -10.581700325012207, -10.581500053405762, -10.581700325012207, -10.58180046081543, -10.58180046081543, -10.58180046081543, -10.581600189208984, -10.581700325012207, -10.581899642944336, -10.581500053405762, -10.581299781799316, -10.581700325012207, -10.581500053405762, -10.581500053405762, -10.581600189208984, -0.9890000224113464, -1.0204999446868896, -10.578200340270996, -10.58329963684082, -10.583399772644043, -10.583499908447266, -10.583399772644043, -10.583399772644043, -10.582900047302246, -10.583700180053711, -10.583600044250488, -10.583700180053711, -10.583700180053711, -10.583800315856934, -10.583700180053711, -10.583800315856934, -10.58329963684082, -10.583800315856934, -10.583900451660156, -10.583900451660156, -10.583900451660156, -10.583900451660156, -10.583900451660156, -10.583999633789062, -10.583800315856934, -10.583900451660156, -10.583700180053711, -10.583600044250488, -10.583900451660156, -10.583900451660156, -10.583800315856934, -10.583800315856934, -10.583700180053711, -10.583399772644043, -10.583499908447266, -10.583800315856934, -10.583800315856934, -10.583900451660156, -1.0544999837875366, -2.4821999073028564, -2.5764000415802, -2.668600082397461, -2.7083001136779785, -3.522200107574463, -3.628200054168701, -10.465399742126465, -10.465299606323242, -10.465299606323242, -10.465399742126465, -10.468500137329102, -10.469200134277344, -10.469300270080566, -10.469400405883789, -10.469400405883789, -10.469400405883789, -10.469400405883789, -10.469300270080566, -10.469400405883789, -10.469499588012695, -10.469400405883789, -10.469400405883789, -10.469400405883789, -10.469300270080566, -10.469499588012695, -10.469499588012695, -10.469499588012695, -10.469499588012695, -10.469400405883789, -10.469400405883789, -10.469400405883789, -10.469300270080566, -10.469300270080566, -10.469400405883789, -10.469099998474121, -10.469400405883789, -10.469300270080566, -10.469400405883789, -10.469400405883789, -1.8756999969482422, -1.9859000444412231, -2.2056000232696533, -2.591099977493286, -2.6006999015808105, -3.416300058364868, -3.7393999099731445, -4.2692999839782715, -4.448200225830078, -10.264699935913086, -10.265000343322754, -10.26509952545166, -10.265000343322754, -10.265199661254883, -10.26509952545166, -10.265199661254883, -10.26509952545166, -10.265199661254883, -10.26509952545166, -10.265299797058105, -10.26509952545166, -10.265299797058105, -10.265199661254883, -10.265299797058105, -10.265299797058105, -10.265299797058105, -10.265299797058105, -10.265299797058105, -10.265299797058105, -10.265299797058105, -10.265199661254883, -10.265199661254883, -10.26509952545166, -10.26509952545166, -10.265199661254883, -10.265199661254883, -10.265199661254883, -10.26509952545166, -10.265199661254883, -10.265199661254883, -10.264900207519531, -10.26509952545166, -10.26509952545166, -10.26509952545166, -1.406000018119812, -1.6521999835968018, -2.7132999897003174, -2.988300085067749, -3.466200113296509, -3.7952001094818115, -10.198399543762207, -10.199199676513672, -10.199399948120117, -10.19950008392334, -10.19950008392334, -10.199700355529785, -10.199600219726562, -10.199799537658691, -10.199700355529785, -10.19950008392334, -10.199799537658691, -10.19950008392334, -10.199700355529785, -10.199700355529785, -10.199799537658691, -10.199799537658691, -10.199899673461914, -10.199799537658691, -10.199600219726562, -10.199899673461914, -10.199799537658691, -10.199799537658691, -10.199899673461914, -10.199899673461914, -10.199899673461914, -10.199899673461914, -10.199899673461914, -10.199700355529785, -10.199399948120117, -10.199700355529785, -10.199700355529785, -10.199799537658691, -10.199799537658691, -10.199700355529785, -10.199799537658691, -1.8163000345230103, -2.0274999141693115, -2.8201000690460205, -3.161400079727173, -3.265700101852417, -3.364500045776367, -3.992500066757202, -4.545400142669678, -4.6143999099731445, -9.974100112915039, -9.974200248718262, -9.974200248718262, -9.974300384521484, -9.974300384521484, -9.97439956665039, -9.97439956665039, -9.974300384521484, -9.97439956665039, -9.974100112915039, -9.974200248718262, -9.97439956665039, -9.97439956665039, -9.97439956665039, -9.97439956665039, -9.974300384521484, -9.97439956665039, -9.97439956665039, -9.97439956665039, -9.97439956665039, -9.974300384521484, -9.974300384521484, -9.97439956665039, -9.974200248718262, -9.97439956665039, -9.974300384521484, -9.974300384521484, -9.974300384521484, -9.974300384521484, -9.974300384521484, -9.974300384521484, -1.1032999753952026, -2.210400104522705, -3.382200002670288, -4.894700050354004, -9.924200057983398, -9.924699783325195, -9.925100326538086, -9.925100326538086, -9.925100326538086, -9.925100326538086, -9.925100326538086, -9.925100326538086, -9.925100326538086, -9.925200462341309, -9.925100326538086, -9.925200462341309, -9.925200462341309, -9.925200462341309, -9.925100326538086, -9.925200462341309, -9.925200462341309, -9.925100326538086, -9.925200462341309, -9.925200462341309, -9.925200462341309, -9.925100326538086, -9.925100326538086, -9.925200462341309, -9.925200462341309, -9.925100326538086, -9.925000190734863, -9.92490005493164, -9.925100326538086, -9.925100326538086, -9.92490005493164, -9.925100326538086, -9.925100326538086, -9.925100326538086, -9.925000190734863, -9.925100326538086, -9.925200462341309, -1.6806000471115112, -2.1379001140594482, -2.167799949645996, -2.9242000579833984, -4.252900123596191, -7.002500057220459, -9.933300018310547, -9.933300018310547, -9.93340015411377, -9.933600425720215, -9.933600425720215, -9.933600425720215, -9.933699607849121, -9.933699607849121, -9.933699607849121, -9.933699607849121, -9.93340015411377, -9.933600425720215, -9.933699607849121, -9.933699607849121, -9.933699607849121, -9.933699607849121, -9.933699607849121, -9.933799743652344, -9.933699607849121, -9.933699607849121, -9.933799743652344, -9.933799743652344, -9.933699607849121, -9.933799743652344, -9.933799743652344, -9.933699607849121, -9.933699607849121, -9.933699607849121, -9.933699607849121, -9.933699607849121, -9.933699607849121, -9.933699607849121, -9.933699607849121, -9.933699607849121, -2.4463000297546387, -2.46370005607605, -9.45359992980957, -9.45419979095459, -9.45419979095459, -9.45419979095459, -9.45419979095459, -9.45419979095459, -9.45419979095459, -9.454099655151367, -9.45419979095459, -9.45419979095459, -9.45419979095459, -9.45419979095459, -9.45419979095459, -9.45419979095459, -9.45419979095459, -9.454299926757812, -9.45419979095459, -9.45419979095459, -9.45419979095459, -9.454299926757812, -9.454299926757812, -9.454299926757812, -9.454299926757812, -9.454299926757812, -9.454299926757812, -9.45419979095459, -9.454400062561035, -9.454400062561035, -9.454099655151367, -9.45419979095459, -9.45419979095459, -9.45419979095459, -9.45419979095459, -9.45419979095459, -9.45419979095459]}, \"token.table\": {\"Topic\": [3, 14, 2, 7, 4, 16, 11, 3, 10, 4, 2, 12, 17, 9, 11, 1, 18, 9, 3, 9, 4, 3, 2, 10, 2, 9, 2, 16, 17, 10, 6, 14, 16, 19, 4, 15, 5, 2, 5, 8, 16, 17, 4, 15, 15, 7, 9, 3, 4, 17, 2, 14, 20, 1, 17, 4, 12, 1, 6, 9, 6, 13, 7, 2, 3, 1, 15, 1, 1, 9, 19, 7, 1, 16, 3, 8, 10, 17, 3, 2, 13, 15, 2, 15, 6, 9, 1, 17, 15, 7, 18, 12, 8, 10, 16, 9, 9, 3, 6, 5, 8, 15, 7, 12, 8, 17, 2, 19, 17, 2, 3, 11, 12, 19, 7, 14, 20, 1, 9, 8, 4, 12, 19, 3, 7, 19, 6, 7, 3, 5, 3, 4, 9, 3, 4, 18, 2, 15, 6, 12, 8, 7, 4, 14, 6, 12, 3, 7, 1, 11, 6, 8, 14, 2, 2, 3, 18, 1, 8, 1, 1, 9, 10, 14, 2, 12, 4, 7, 8, 3, 9, 4, 6, 8, 6, 9], \"Freq\": [0.9869987964630127, 0.9929157495498657, 0.9890838265419006, 0.9901562333106995, 0.9877208471298218, 0.9958174228668213, 0.9990313053131104, 0.9920430183410645, 0.9734498858451843, 0.994623601436615, 0.9327073097229004, 0.9979200959205627, 0.9770577549934387, 0.995163083076477, 0.9980875253677368, 0.9964579939842224, 0.989625871181488, 0.9869011640548706, 0.9886552095413208, 0.9983348846435547, 0.9811878204345703, 0.9928832650184631, 0.9934180378913879, 0.9972769618034363, 0.9895514249801636, 0.965281069278717, 0.9828190803527832, 0.9671922326087952, 0.9712141752243042, 0.9906467795372009, 0.9673665761947632, 0.9917240142822266, 0.9887737035751343, 0.9908041954040527, 0.9950899481773376, 0.9954065084457397, 0.9981130361557007, 0.9778723120689392, 0.988752543926239, 0.9906306266784668, 0.9840117692947388, 0.9396151304244995, 0.9933229088783264, 0.9586375951766968, 0.9824602603912354, 0.9821142554283142, 0.9902392029762268, 0.9979244470596313, 0.9975148439407349, 0.9688246846199036, 0.9652573466300964, 0.9837873578071594, 0.9397171139717102, 0.9748352766036987, 0.9718620777130127, 0.969875156879425, 0.9793331623077393, 0.9983545541763306, 0.9969713687896729, 0.9956209659576416, 0.9982374310493469, 0.9983947277069092, 0.9957064986228943, 0.9981914162635803, 0.9957557916641235, 0.893822968006134, 0.9963846206665039, 0.9964731335639954, 0.9915649890899658, 0.9887677431106567, 0.9857197403907776, 0.9710842370986938, 0.9910046458244324, 0.9959536790847778, 0.9929913878440857, 0.987235963344574, 0.9986724853515625, 0.9923327565193176, 0.9900566339492798, 0.9890259504318237, 0.9987126588821411, 0.9632330536842346, 0.991798996925354, 0.9923105239868164, 0.9897587299346924, 0.9942015409469604, 0.9977161884307861, 0.9914440512657166, 0.9953941106796265, 0.965620219707489, 0.9964901804924011, 0.9966164231300354, 0.9842227101325989, 0.9798418879508972, 0.9743620753288269, 0.983473002910614, 0.8689928650856018, 0.991580069065094, 0.9454247355461121, 0.9961571097373962, 0.9925253987312317, 0.9762804508209229, 0.995193600654602, 0.997918426990509, 0.9906796216964722, 0.8927901387214661, 0.9937054514884949, 0.9737468361854553, 0.9155265092849731, 0.9954391121864319, 0.9816043972969055, 0.9954856634140015, 0.9690763354301453, 0.9079551696777344, 0.9744024276733398, 0.9755915999412537, 0.9246059060096741, 0.9967814087867737, 0.8869858980178833, 0.9920161962509155, 0.9902846813201904, 0.9197818040847778, 0.9882537722587585, 0.9943960905075073, 0.9961111545562744, 0.24418188631534576, 0.960448145866394, 0.9920625686645508, 0.995384693145752, 0.999219536781311, 0.9889128804206848, 0.9944671392440796, 0.9912120699882507, 0.9957059025764465, 0.9933047890663147, 0.8393830060958862, 0.9397025108337402, 0.9927834868431091, 0.9213002920150757, 0.9928696751594543, 0.9898189902305603, 0.9949453473091125, 0.981998085975647, 0.9914987683296204, 0.9945728182792664, 0.8819535374641418, 0.6959421038627625, 0.9981393218040466, 0.9957972764968872, 0.971771240234375, 0.9956526756286621, 0.9919331669807434, 0.9923595190048218, 0.9977153539657593, 0.9954568147659302, 0.9238035082817078, 0.970862865447998, 0.9969109892845154, 0.978448748588562, 0.994925320148468, 0.9708102345466614, 0.9857511520385742, 0.995652437210083, 0.9982787370681763, 0.9960423111915588, 0.9604716897010803, 0.9987830519676208, 0.9858574867248535, 0.9869012236595154, 0.994088888168335, 0.9866235256195068, 0.9869381785392761, 0.9866804480552673, 0.9988591074943542, 0.9988411068916321, 0.9843541979789734], \"Term\": [\"access\", \"allow\", \"ally\", \"also\", \"arm\", \"arrest\", \"attack\", \"back\", \"base\", \"become\", \"bid\", \"blast\", \"blow\", \"body\", \"bomb\", \"border\", \"boy\", \"bring\", \"build\", \"call\", \"capital\", \"case\", \"charge\", \"child\", \"citizen\", \"clash\", \"comment\", \"commit\", \"confirm\", \"continue\", \"control\", \"court\", \"crime\", \"crisis\", \"cut\", \"dead\", \"death\", \"decline\", \"defend\", \"deny\", \"doctor\", \"drink\", \"drug\", \"early\", \"earth\", \"eat\", \"economic\", \"economy\", \"end\", \"energy\", \"envoy\", \"evidence\", \"expose\", \"farmer\", \"film\", \"flight\", \"footage\", \"force\", \"get\", \"give\", \"global\", \"go\", \"good\", \"government\", \"help\", \"hide\", \"hit\", \"hold\", \"home\", \"hospital\", \"hour\", \"idea\", \"illegal\", \"indian\", \"internet\", \"iranian\", \"israeli\", \"jail\", \"japanese\", \"job\", \"kill\", \"king\", \"large\", \"last\", \"launch\", \"law\", \"leader\", \"life\", \"live\", \"loss\", \"make\", \"man\", \"map\", \"mass\", \"meet\", \"member\", \"mental\", \"middle_east\", \"migrant\", \"military\", \"missile\", \"mission\", \"need\", \"new\", \"nuclear\", \"nude\", \"old\", \"pass\", \"patient\", \"pay\", \"picture\", \"plan\", \"plant\", \"plunge\", \"poor\", \"possible\", \"press\", \"protest\", \"punish\", \"raise\", \"rebel\", \"reform\", \"reject\", \"release\", \"report\", \"resolution\", \"row\", \"run\", \"russian\", \"say\", \"search\", \"secret\", \"send\", \"ship\", \"shoot\", \"slay\", \"southern\", \"spy\", \"standard\", \"start\", \"steal\", \"still\", \"storm\", \"story\", \"support\", \"surprise\", \"surveillance\", \"take\", \"talk\", \"teacher\", \"tell\", \"test\", \"threaten\", \"time\", \"top\", \"torch\", \"town\", \"troop\", \"true\", \"try\", \"unveil\", \"urge\", \"use\", \"video\", \"violence\", \"vow\", \"war\", \"website\", \"week\", \"win\", \"word\", \"work\", \"worker\", \"world\", \"year\", \"yesterday\"]}, \"R\": 30, \"lambda.step\": 0.01, \"plot.opts\": {\"xlab\": \"PC1\", \"ylab\": \"PC2\"}, \"topic.order\": [9, 4, 16, 7, 17, 2, 5, 15, 19, 3, 8, 10, 13, 14, 6, 11, 20, 18, 1, 12]};\n",
       "\n",
       "function LDAvis_load_lib(url, callback){\n",
       "  var s = document.createElement('script');\n",
       "  s.src = url;\n",
       "  s.async = true;\n",
       "  s.onreadystatechange = s.onload = callback;\n",
       "  s.onerror = function(){console.warn(\"failed to load library \" + url);};\n",
       "  document.getElementsByTagName(\"head\")[0].appendChild(s);\n",
       "}\n",
       "\n",
       "if(typeof(LDAvis) !== \"undefined\"){\n",
       "   // already loaded: just create the visualization\n",
       "   !function(LDAvis){\n",
       "       new LDAvis(\"#\" + \"ldavis_el337911124504720165997120948\", ldavis_el337911124504720165997120948_data);\n",
       "   }(LDAvis);\n",
       "}else if(typeof define === \"function\" && define.amd){\n",
       "   // require.js is available: use it to load d3/LDAvis\n",
       "   require.config({paths: {d3: \"https://cdnjs.cloudflare.com/ajax/libs/d3/3.5.5/d3.min\"}});\n",
       "   require([\"d3\"], function(d3){\n",
       "      window.d3 = d3;\n",
       "      LDAvis_load_lib(\"https://cdn.rawgit.com/bmabey/pyLDAvis/files/ldavis.v1.0.0.js\", function(){\n",
       "        new LDAvis(\"#\" + \"ldavis_el337911124504720165997120948\", ldavis_el337911124504720165997120948_data);\n",
       "      });\n",
       "    });\n",
       "}else{\n",
       "    // require.js not available: dynamically load d3 & LDAvis\n",
       "    LDAvis_load_lib(\"https://cdnjs.cloudflare.com/ajax/libs/d3/3.5.5/d3.min.js\", function(){\n",
       "         LDAvis_load_lib(\"https://cdn.rawgit.com/bmabey/pyLDAvis/files/ldavis.v1.0.0.js\", function(){\n",
       "                 new LDAvis(\"#\" + \"ldavis_el337911124504720165997120948\", ldavis_el337911124504720165997120948_data);\n",
       "            })\n",
       "         });\n",
       "}\n",
       "</script>"
      ],
      "text/plain": [
       "PreparedData(topic_coordinates=              x         y  topics  cluster      Freq\n",
       "topic                                               \n",
       "8      0.094395  0.106606       1        1  8.433787\n",
       "3      0.023826  0.013469       2        1  7.855826\n",
       "15     0.274904 -0.257724       3        1  7.560037\n",
       "6      0.098975  0.118647       4        1  7.414954\n",
       "16    -0.030087 -0.014326       5        1  6.843576\n",
       "1      0.124843  0.216967       6        1  6.829334\n",
       "4     -0.027140 -0.013375       7        1  6.246184\n",
       "14    -0.058378 -0.023399       8        1  6.003327\n",
       "18    -0.030656 -0.014756       9        1  5.889541\n",
       "2      0.007325  0.002894      10        1  5.070370\n",
       "7      0.079015  0.071190      11        1  5.070015\n",
       "9     -0.034694 -0.016087      12        1  4.893479\n",
       "12    -0.031333 -0.014747      13        1  4.838132\n",
       "13    -0.054271 -0.022238      14        1  4.176125\n",
       "5     -0.070093 -0.025935      15        1  4.140031\n",
       "10    -0.072015 -0.026163      16        1  2.693258\n",
       "19    -0.074752 -0.025982      17        1  2.083455\n",
       "17    -0.074561 -0.025759      18        1  2.059362\n",
       "0     -0.074622 -0.025803      19        1  1.495219\n",
       "11    -0.070680 -0.023477      20        1  0.403988, topic_info=    Category         Freq       Term        Total  loglift  logprob\n",
       "70   Default  3370.000000        say  3370.000000  30.0000  30.0000\n",
       "124  Default  2369.000000     attack  2369.000000  29.0000  29.0000\n",
       "123  Default  2242.000000    israeli  2242.000000  28.0000  28.0000\n",
       "1    Default  1922.000000       kill  1922.000000  27.0000  27.0000\n",
       "69   Default  1862.000000         go  1862.000000  26.0000  26.0000\n",
       "..       ...          ...        ...          ...      ...      ...\n",
       "345  Topic20     0.033774   official     2.722561   1.1219  -9.4542\n",
       "492  Topic20     0.033773        die     2.722407   1.1219  -9.4542\n",
       "535  Topic20     0.033771  pakistani     2.722225   1.1220  -9.4542\n",
       "469  Topic20     0.033771      iraqi     2.722331   1.1219  -9.4542\n",
       "659  Topic20     0.033772     police     2.723870   1.1214  -9.4542\n",
       "\n",
       "[805 rows x 6 columns], token_table=      Topic      Freq       Term\n",
       "term                            \n",
       "126       3  0.986999     access\n",
       "191      14  0.992916      allow\n",
       "102       2  0.989084       ally\n",
       "150       7  0.990156       also\n",
       "155       4  0.987721        arm\n",
       "...     ...       ...        ...\n",
       "115       4  0.986938       work\n",
       "46        6  0.986680     worker\n",
       "180       8  0.998859      world\n",
       "47        6  0.998841       year\n",
       "213       9  0.984354  yesterday\n",
       "\n",
       "[176 rows x 3 columns], R=30, lambda_step=0.01, plot_opts={'xlab': 'PC1', 'ylab': 'PC2'}, topic_order=[9, 4, 16, 7, 17, 2, 5, 15, 19, 3, 8, 10, 13, 14, 6, 11, 20, 18, 1, 12])"
      ]
     },
     "execution_count": 30,
     "metadata": {},
     "output_type": "execute_result"
    }
   ],
   "source": [
    "# Visualize the Labels\n",
    "pyLDAvis.enable_notebook()\n",
    "vis = pyLDAvis.gensim.prepare(lda_model, corpus, id2word)\n",
    "vis"
   ]
  },
  {
   "cell_type": "code",
   "execution_count": null,
   "metadata": {},
   "outputs": [],
   "source": []
  },
  {
   "cell_type": "code",
   "execution_count": null,
   "metadata": {},
   "outputs": [],
   "source": []
  }
 ],
 "metadata": {
  "kernelspec": {
   "display_name": "Python 3",
   "language": "python",
   "name": "python3"
  },
  "language_info": {
   "codemirror_mode": {
    "name": "ipython",
    "version": 3
   },
   "file_extension": ".py",
   "mimetype": "text/x-python",
   "name": "python",
   "nbconvert_exporter": "python",
   "pygments_lexer": "ipython3",
   "version": "3.7.4"
  }
 },
 "nbformat": 4,
 "nbformat_minor": 2
}
